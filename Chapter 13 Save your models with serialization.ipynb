{
 "cells": [
  {
   "cell_type": "markdown",
   "metadata": {},
   "source": [
    "Save model to json and model weights to hdf5"
   ]
  },
  {
   "cell_type": "code",
   "execution_count": 3,
   "metadata": {},
   "outputs": [],
   "source": [
    "from keras.models import Sequential\n",
    "from keras.layers import Dense\n",
    "from keras.models import model_from_json\n",
    "import numpy\n",
    "import os"
   ]
  },
  {
   "cell_type": "code",
   "execution_count": 4,
   "metadata": {},
   "outputs": [],
   "source": [
    "seed = 7\n",
    "numpy.random.seed(seed)"
   ]
  },
  {
   "cell_type": "code",
   "execution_count": 5,
   "metadata": {},
   "outputs": [],
   "source": [
    "dataset = numpy.loadtxt('pima-indians-diabetes.data.csv',delimiter = \",\")"
   ]
  },
  {
   "cell_type": "code",
   "execution_count": 6,
   "metadata": {},
   "outputs": [],
   "source": [
    "X = dataset[:,0:8]\n",
    "Y = dataset[:,8]"
   ]
  },
  {
   "cell_type": "code",
   "execution_count": 7,
   "metadata": {},
   "outputs": [
    {
     "name": "stderr",
     "output_type": "stream",
     "text": [
      "W0423 18:58:11.575937 139628042426176 deprecation.py:506] From /home/arvind/.local/lib/python3.6/site-packages/tensorflow_core/python/ops/resource_variable_ops.py:1633: calling BaseResourceVariable.__init__ (from tensorflow.python.ops.resource_variable_ops) with constraint is deprecated and will be removed in a future version.\n",
      "Instructions for updating:\n",
      "If using Keras pass *_constraint arguments to layers.\n"
     ]
    }
   ],
   "source": [
    "model = Sequential()\n",
    "model.add(Dense(12,input_dim=8,kernel_initializer='uniform',activation=\"relu\"))\n",
    "model.add(Dense(8,kernel_initializer='uniform',activation=\"relu\"))\n",
    "model.add(Dense(1,kernel_initializer='uniform',activation=\"sigmoid\"))"
   ]
  },
  {
   "cell_type": "code",
   "execution_count": 8,
   "metadata": {},
   "outputs": [
    {
     "name": "stderr",
     "output_type": "stream",
     "text": [
      "W0423 18:58:53.098520 139628042426176 deprecation.py:323] From /home/arvind/.local/lib/python3.6/site-packages/tensorflow_core/python/ops/nn_impl.py:183: where (from tensorflow.python.ops.array_ops) is deprecated and will be removed in a future version.\n",
      "Instructions for updating:\n",
      "Use tf.where in 2.0, which has the same broadcast rule as np.where\n"
     ]
    }
   ],
   "source": [
    "model.compile(loss=\"binary_crossentropy\",optimizer=\"adam\",metrics=[\"accuracy\"])"
   ]
  },
  {
   "cell_type": "code",
   "execution_count": 9,
   "metadata": {},
   "outputs": [
    {
     "name": "stderr",
     "output_type": "stream",
     "text": [
      "W0423 18:59:27.528545 139628042426176 deprecation.py:323] From /home/arvind/.local/lib/python3.6/site-packages/keras/optimizers.py:550: BaseResourceVariable.constraint (from tensorflow.python.ops.resource_variable_ops) is deprecated and will be removed in a future version.\n",
      "Instructions for updating:\n",
      "Apply a constraint manually following the optimizer update step.\n",
      "W0423 18:59:27.744471 139628042426176 module_wrapper.py:136] From /home/arvind/.local/lib/python3.6/site-packages/tensorflow_core/python/util/module_wrapper.py:163: The name tf.global_variables is deprecated. Please use tf.compat.v1.global_variables instead.\n",
      "\n"
     ]
    },
    {
     "name": "stdout",
     "output_type": "stream",
     "text": [
      "Epoch 1/150\n",
      "768/768 [==============================] - 0s 224us/step - loss: 0.6773 - accuracy: 0.6510\n",
      "Epoch 2/150\n",
      "768/768 [==============================] - 0s 103us/step - loss: 0.6593 - accuracy: 0.6510\n",
      "Epoch 3/150\n",
      "768/768 [==============================] - 0s 101us/step - loss: 0.6480 - accuracy: 0.6510\n",
      "Epoch 4/150\n",
      "768/768 [==============================] - 0s 101us/step - loss: 0.6398 - accuracy: 0.6510\n",
      "Epoch 5/150\n",
      "768/768 [==============================] - 0s 97us/step - loss: 0.6326 - accuracy: 0.6510\n",
      "Epoch 6/150\n",
      "768/768 [==============================] - 0s 99us/step - loss: 0.6194 - accuracy: 0.6510\n",
      "Epoch 7/150\n",
      "768/768 [==============================] - 0s 102us/step - loss: 0.6195 - accuracy: 0.6510\n",
      "Epoch 8/150\n",
      "768/768 [==============================] - 0s 108us/step - loss: 0.6154 - accuracy: 0.6510\n",
      "Epoch 9/150\n",
      "768/768 [==============================] - 0s 98us/step - loss: 0.6091 - accuracy: 0.6510\n",
      "Epoch 10/150\n",
      "768/768 [==============================] - 0s 98us/step - loss: 0.6166 - accuracy: 0.6510\n",
      "Epoch 11/150\n",
      "768/768 [==============================] - 0s 103us/step - loss: 0.6049 - accuracy: 0.6510\n",
      "Epoch 12/150\n",
      "768/768 [==============================] - 0s 101us/step - loss: 0.6033 - accuracy: 0.6510\n",
      "Epoch 13/150\n",
      "768/768 [==============================] - 0s 109us/step - loss: 0.5998 - accuracy: 0.6510\n",
      "Epoch 14/150\n",
      "768/768 [==============================] - 0s 100us/step - loss: 0.6015 - accuracy: 0.6510\n",
      "Epoch 15/150\n",
      "768/768 [==============================] - 0s 99us/step - loss: 0.5994 - accuracy: 0.6510\n",
      "Epoch 16/150\n",
      "768/768 [==============================] - 0s 99us/step - loss: 0.6021 - accuracy: 0.6510\n",
      "Epoch 17/150\n",
      "768/768 [==============================] - 0s 122us/step - loss: 0.5995 - accuracy: 0.6510\n",
      "Epoch 18/150\n",
      "768/768 [==============================] - 0s 116us/step - loss: 0.6034 - accuracy: 0.6510\n",
      "Epoch 19/150\n",
      "768/768 [==============================] - 0s 123us/step - loss: 0.5959 - accuracy: 0.6510\n",
      "Epoch 20/150\n",
      "768/768 [==============================] - 0s 113us/step - loss: 0.5999 - accuracy: 0.6510\n",
      "Epoch 21/150\n",
      "768/768 [==============================] - 0s 112us/step - loss: 0.5961 - accuracy: 0.6510\n",
      "Epoch 22/150\n",
      "768/768 [==============================] - 0s 104us/step - loss: 0.5938 - accuracy: 0.6576\n",
      "Epoch 23/150\n",
      "768/768 [==============================] - 0s 94us/step - loss: 0.5889 - accuracy: 0.6888\n",
      "Epoch 24/150\n",
      "768/768 [==============================] - 0s 92us/step - loss: 0.5928 - accuracy: 0.6875\n",
      "Epoch 25/150\n",
      "768/768 [==============================] - 0s 99us/step - loss: 0.5836 - accuracy: 0.6875\n",
      "Epoch 26/150\n",
      "768/768 [==============================] - 0s 93us/step - loss: 0.5944 - accuracy: 0.6836\n",
      "Epoch 27/150\n",
      "768/768 [==============================] - 0s 100us/step - loss: 0.5863 - accuracy: 0.6875\n",
      "Epoch 28/150\n",
      "768/768 [==============================] - 0s 99us/step - loss: 0.5778 - accuracy: 0.6940\n",
      "Epoch 29/150\n",
      "768/768 [==============================] - 0s 96us/step - loss: 0.5810 - accuracy: 0.6901\n",
      "Epoch 30/150\n",
      "768/768 [==============================] - 0s 95us/step - loss: 0.5795 - accuracy: 0.7005\n",
      "Epoch 31/150\n",
      "768/768 [==============================] - 0s 96us/step - loss: 0.5754 - accuracy: 0.7070\n",
      "Epoch 32/150\n",
      "768/768 [==============================] - 0s 96us/step - loss: 0.5726 - accuracy: 0.7096\n",
      "Epoch 33/150\n",
      "768/768 [==============================] - 0s 106us/step - loss: 0.5698 - accuracy: 0.6966\n",
      "Epoch 34/150\n",
      "768/768 [==============================] - 0s 102us/step - loss: 0.5737 - accuracy: 0.7057\n",
      "Epoch 35/150\n",
      "768/768 [==============================] - 0s 96us/step - loss: 0.5680 - accuracy: 0.7161\n",
      "Epoch 36/150\n",
      "768/768 [==============================] - 0s 97us/step - loss: 0.5644 - accuracy: 0.7031\n",
      "Epoch 37/150\n",
      "768/768 [==============================] - 0s 95us/step - loss: 0.5642 - accuracy: 0.7070\n",
      "Epoch 38/150\n",
      "768/768 [==============================] - 0s 125us/step - loss: 0.5719 - accuracy: 0.7135\n",
      "Epoch 39/150\n",
      "768/768 [==============================] - 0s 111us/step - loss: 0.5672 - accuracy: 0.7122\n",
      "Epoch 40/150\n",
      "768/768 [==============================] - 0s 98us/step - loss: 0.5658 - accuracy: 0.7096\n",
      "Epoch 41/150\n",
      "768/768 [==============================] - 0s 95us/step - loss: 0.5593 - accuracy: 0.7227\n",
      "Epoch 42/150\n",
      "768/768 [==============================] - 0s 95us/step - loss: 0.5597 - accuracy: 0.7018\n",
      "Epoch 43/150\n",
      "768/768 [==============================] - 0s 102us/step - loss: 0.5559 - accuracy: 0.7253\n",
      "Epoch 44/150\n",
      "768/768 [==============================] - 0s 120us/step - loss: 0.5581 - accuracy: 0.7201\n",
      "Epoch 45/150\n",
      "768/768 [==============================] - 0s 129us/step - loss: 0.5569 - accuracy: 0.7135\n",
      "Epoch 46/150\n",
      "768/768 [==============================] - 0s 93us/step - loss: 0.5533 - accuracy: 0.7070\n",
      "Epoch 47/150\n",
      "768/768 [==============================] - 0s 107us/step - loss: 0.5528 - accuracy: 0.7201\n",
      "Epoch 48/150\n",
      "768/768 [==============================] - 0s 98us/step - loss: 0.5473 - accuracy: 0.7135\n",
      "Epoch 49/150\n",
      "768/768 [==============================] - 0s 109us/step - loss: 0.5453 - accuracy: 0.7227\n",
      "Epoch 50/150\n",
      "768/768 [==============================] - 0s 112us/step - loss: 0.5453 - accuracy: 0.7253\n",
      "Epoch 51/150\n",
      "768/768 [==============================] - 0s 124us/step - loss: 0.5447 - accuracy: 0.7109\n",
      "Epoch 52/150\n",
      "768/768 [==============================] - 0s 128us/step - loss: 0.5491 - accuracy: 0.7109\n",
      "Epoch 53/150\n",
      "768/768 [==============================] - 0s 99us/step - loss: 0.5422 - accuracy: 0.7174\n",
      "Epoch 54/150\n",
      "768/768 [==============================] - 0s 111us/step - loss: 0.5434 - accuracy: 0.7279\n",
      "Epoch 55/150\n",
      "768/768 [==============================] - 0s 96us/step - loss: 0.5417 - accuracy: 0.7305\n",
      "Epoch 56/150\n",
      "768/768 [==============================] - 0s 102us/step - loss: 0.5422 - accuracy: 0.7344\n",
      "Epoch 57/150\n",
      "768/768 [==============================] - 0s 106us/step - loss: 0.5376 - accuracy: 0.7305\n",
      "Epoch 58/150\n",
      "768/768 [==============================] - 0s 95us/step - loss: 0.5370 - accuracy: 0.7253\n",
      "Epoch 59/150\n",
      "768/768 [==============================] - 0s 99us/step - loss: 0.5310 - accuracy: 0.7305\n",
      "Epoch 60/150\n",
      "768/768 [==============================] - 0s 97us/step - loss: 0.5374 - accuracy: 0.7279\n",
      "Epoch 61/150\n",
      "768/768 [==============================] - 0s 97us/step - loss: 0.5293 - accuracy: 0.7318\n",
      "Epoch 62/150\n",
      "768/768 [==============================] - 0s 100us/step - loss: 0.5345 - accuracy: 0.7383\n",
      "Epoch 63/150\n",
      "768/768 [==============================] - 0s 99us/step - loss: 0.5372 - accuracy: 0.7240\n",
      "Epoch 64/150\n",
      "768/768 [==============================] - 0s 96us/step - loss: 0.5333 - accuracy: 0.7266\n",
      "Epoch 65/150\n",
      "768/768 [==============================] - 0s 96us/step - loss: 0.5288 - accuracy: 0.7422\n",
      "Epoch 66/150\n",
      "768/768 [==============================] - 0s 116us/step - loss: 0.5250 - accuracy: 0.7331\n",
      "Epoch 67/150\n",
      "768/768 [==============================] - 0s 120us/step - loss: 0.5218 - accuracy: 0.7409\n",
      "Epoch 68/150\n",
      "768/768 [==============================] - 0s 121us/step - loss: 0.5264 - accuracy: 0.7331\n",
      "Epoch 69/150\n",
      "768/768 [==============================] - 0s 113us/step - loss: 0.5225 - accuracy: 0.7539\n",
      "Epoch 70/150\n",
      "768/768 [==============================] - 0s 112us/step - loss: 0.5300 - accuracy: 0.7305\n",
      "Epoch 71/150\n",
      "768/768 [==============================] - 0s 108us/step - loss: 0.5228 - accuracy: 0.7409\n",
      "Epoch 72/150\n",
      "768/768 [==============================] - 0s 118us/step - loss: 0.5235 - accuracy: 0.7383\n",
      "Epoch 73/150\n",
      "768/768 [==============================] - 0s 97us/step - loss: 0.5153 - accuracy: 0.7513\n",
      "Epoch 74/150\n",
      "768/768 [==============================] - 0s 121us/step - loss: 0.5218 - accuracy: 0.7305\n",
      "Epoch 75/150\n",
      "768/768 [==============================] - 0s 117us/step - loss: 0.5118 - accuracy: 0.7435\n",
      "Epoch 76/150\n",
      "768/768 [==============================] - 0s 108us/step - loss: 0.5131 - accuracy: 0.7565\n",
      "Epoch 77/150\n",
      "768/768 [==============================] - 0s 108us/step - loss: 0.5147 - accuracy: 0.7435\n",
      "Epoch 78/150\n",
      "768/768 [==============================] - 0s 108us/step - loss: 0.5096 - accuracy: 0.7526\n",
      "Epoch 79/150\n",
      "768/768 [==============================] - 0s 115us/step - loss: 0.5197 - accuracy: 0.7487\n",
      "Epoch 80/150\n"
     ]
    },
    {
     "name": "stdout",
     "output_type": "stream",
     "text": [
      "768/768 [==============================] - 0s 110us/step - loss: 0.5097 - accuracy: 0.7500\n",
      "Epoch 81/150\n",
      "768/768 [==============================] - 0s 92us/step - loss: 0.5058 - accuracy: 0.7552\n",
      "Epoch 82/150\n",
      "768/768 [==============================] - 0s 91us/step - loss: 0.5086 - accuracy: 0.7513\n",
      "Epoch 83/150\n",
      "768/768 [==============================] - 0s 94us/step - loss: 0.5041 - accuracy: 0.7526\n",
      "Epoch 84/150\n",
      "768/768 [==============================] - 0s 92us/step - loss: 0.5010 - accuracy: 0.7682\n",
      "Epoch 85/150\n",
      "768/768 [==============================] - 0s 91us/step - loss: 0.5068 - accuracy: 0.7552\n",
      "Epoch 86/150\n",
      "768/768 [==============================] - 0s 97us/step - loss: 0.5107 - accuracy: 0.7513\n",
      "Epoch 87/150\n",
      "768/768 [==============================] - 0s 91us/step - loss: 0.5051 - accuracy: 0.7630\n",
      "Epoch 88/150\n",
      "768/768 [==============================] - 0s 92us/step - loss: 0.4980 - accuracy: 0.7513\n",
      "Epoch 89/150\n",
      "768/768 [==============================] - 0s 94us/step - loss: 0.5063 - accuracy: 0.7669\n",
      "Epoch 90/150\n",
      "768/768 [==============================] - 0s 96us/step - loss: 0.4963 - accuracy: 0.7643\n",
      "Epoch 91/150\n",
      "768/768 [==============================] - 0s 101us/step - loss: 0.5000 - accuracy: 0.7630\n",
      "Epoch 92/150\n",
      "768/768 [==============================] - 0s 97us/step - loss: 0.4981 - accuracy: 0.7669\n",
      "Epoch 93/150\n",
      "768/768 [==============================] - 0s 98us/step - loss: 0.4898 - accuracy: 0.7669\n",
      "Epoch 94/150\n",
      "768/768 [==============================] - 0s 99us/step - loss: 0.4970 - accuracy: 0.7565\n",
      "Epoch 95/150\n",
      "768/768 [==============================] - 0s 96us/step - loss: 0.4905 - accuracy: 0.7578\n",
      "Epoch 96/150\n",
      "768/768 [==============================] - 0s 102us/step - loss: 0.4977 - accuracy: 0.7695\n",
      "Epoch 97/150\n",
      "768/768 [==============================] - 0s 97us/step - loss: 0.4907 - accuracy: 0.7799\n",
      "Epoch 98/150\n",
      "768/768 [==============================] - 0s 108us/step - loss: 0.4885 - accuracy: 0.7721\n",
      "Epoch 99/150\n",
      "768/768 [==============================] - 0s 98us/step - loss: 0.4851 - accuracy: 0.7695\n",
      "Epoch 100/150\n",
      "768/768 [==============================] - 0s 95us/step - loss: 0.4841 - accuracy: 0.7682\n",
      "Epoch 101/150\n",
      "768/768 [==============================] - 0s 92us/step - loss: 0.4863 - accuracy: 0.7773\n",
      "Epoch 102/150\n",
      "768/768 [==============================] - 0s 90us/step - loss: 0.4840 - accuracy: 0.7812\n",
      "Epoch 103/150\n",
      "768/768 [==============================] - 0s 98us/step - loss: 0.4968 - accuracy: 0.7695\n",
      "Epoch 104/150\n",
      "768/768 [==============================] - 0s 100us/step - loss: 0.4862 - accuracy: 0.7760\n",
      "Epoch 105/150\n",
      "768/768 [==============================] - 0s 100us/step - loss: 0.5006 - accuracy: 0.7682\n",
      "Epoch 106/150\n",
      "768/768 [==============================] - 0s 117us/step - loss: 0.4873 - accuracy: 0.7721\n",
      "Epoch 107/150\n",
      "768/768 [==============================] - 0s 115us/step - loss: 0.4815 - accuracy: 0.7826\n",
      "Epoch 108/150\n",
      "768/768 [==============================] - 0s 110us/step - loss: 0.4851 - accuracy: 0.7669\n",
      "Epoch 109/150\n",
      "768/768 [==============================] - 0s 111us/step - loss: 0.4802 - accuracy: 0.7643\n",
      "Epoch 110/150\n",
      "768/768 [==============================] - 0s 108us/step - loss: 0.4812 - accuracy: 0.7734\n",
      "Epoch 111/150\n",
      "768/768 [==============================] - 0s 106us/step - loss: 0.4836 - accuracy: 0.7695\n",
      "Epoch 112/150\n",
      "768/768 [==============================] - 0s 116us/step - loss: 0.4777 - accuracy: 0.7591\n",
      "Epoch 113/150\n",
      "768/768 [==============================] - 0s 116us/step - loss: 0.4817 - accuracy: 0.7760\n",
      "Epoch 114/150\n",
      "768/768 [==============================] - 0s 109us/step - loss: 0.4848 - accuracy: 0.7708\n",
      "Epoch 115/150\n",
      "768/768 [==============================] - 0s 100us/step - loss: 0.4759 - accuracy: 0.7643\n",
      "Epoch 116/150\n",
      "768/768 [==============================] - 0s 110us/step - loss: 0.4867 - accuracy: 0.7695\n",
      "Epoch 117/150\n",
      "768/768 [==============================] - 0s 106us/step - loss: 0.4738 - accuracy: 0.7760\n",
      "Epoch 118/150\n",
      "768/768 [==============================] - 0s 101us/step - loss: 0.4749 - accuracy: 0.7747\n",
      "Epoch 119/150\n",
      "768/768 [==============================] - 0s 96us/step - loss: 0.4692 - accuracy: 0.7682\n",
      "Epoch 120/150\n",
      "768/768 [==============================] - 0s 100us/step - loss: 0.4747 - accuracy: 0.7630\n",
      "Epoch 121/150\n",
      "768/768 [==============================] - 0s 104us/step - loss: 0.4818 - accuracy: 0.7799\n",
      "Epoch 122/150\n",
      "768/768 [==============================] - 0s 109us/step - loss: 0.4747 - accuracy: 0.7773\n",
      "Epoch 123/150\n",
      "768/768 [==============================] - 0s 105us/step - loss: 0.4718 - accuracy: 0.7839\n",
      "Epoch 124/150\n",
      "768/768 [==============================] - 0s 97us/step - loss: 0.4656 - accuracy: 0.7969\n",
      "Epoch 125/150\n",
      "768/768 [==============================] - 0s 102us/step - loss: 0.4727 - accuracy: 0.7760\n",
      "Epoch 126/150\n",
      "768/768 [==============================] - 0s 99us/step - loss: 0.4674 - accuracy: 0.7591\n",
      "Epoch 127/150\n",
      "768/768 [==============================] - 0s 110us/step - loss: 0.4727 - accuracy: 0.7747\n",
      "Epoch 128/150\n",
      "768/768 [==============================] - 0s 97us/step - loss: 0.4632 - accuracy: 0.7812\n",
      "Epoch 129/150\n",
      "768/768 [==============================] - 0s 101us/step - loss: 0.4717 - accuracy: 0.7760\n",
      "Epoch 130/150\n",
      "768/768 [==============================] - 0s 96us/step - loss: 0.4699 - accuracy: 0.7812\n",
      "Epoch 131/150\n",
      "768/768 [==============================] - 0s 99us/step - loss: 0.4692 - accuracy: 0.7682\n",
      "Epoch 132/150\n",
      "768/768 [==============================] - 0s 102us/step - loss: 0.4675 - accuracy: 0.7826\n",
      "Epoch 133/150\n",
      "768/768 [==============================] - 0s 102us/step - loss: 0.4720 - accuracy: 0.7708\n",
      "Epoch 134/150\n",
      "768/768 [==============================] - 0s 108us/step - loss: 0.4680 - accuracy: 0.7682\n",
      "Epoch 135/150\n",
      "768/768 [==============================] - 0s 101us/step - loss: 0.4582 - accuracy: 0.7865\n",
      "Epoch 136/150\n",
      "768/768 [==============================] - 0s 107us/step - loss: 0.4602 - accuracy: 0.7865\n",
      "Epoch 137/150\n",
      "768/768 [==============================] - 0s 100us/step - loss: 0.4582 - accuracy: 0.7839\n",
      "Epoch 138/150\n",
      "768/768 [==============================] - 0s 114us/step - loss: 0.4650 - accuracy: 0.7747\n",
      "Epoch 139/150\n",
      "768/768 [==============================] - 0s 117us/step - loss: 0.4495 - accuracy: 0.7904\n",
      "Epoch 140/150\n",
      "768/768 [==============================] - 0s 116us/step - loss: 0.4620 - accuracy: 0.7826\n",
      "Epoch 141/150\n",
      "768/768 [==============================] - 0s 107us/step - loss: 0.4552 - accuracy: 0.7747\n",
      "Epoch 142/150\n",
      "768/768 [==============================] - 0s 121us/step - loss: 0.4653 - accuracy: 0.7773\n",
      "Epoch 143/150\n",
      "768/768 [==============================] - 0s 108us/step - loss: 0.4598 - accuracy: 0.7721\n",
      "Epoch 144/150\n",
      "768/768 [==============================] - 0s 103us/step - loss: 0.4630 - accuracy: 0.7721\n",
      "Epoch 145/150\n",
      "768/768 [==============================] - 0s 104us/step - loss: 0.4666 - accuracy: 0.7734\n",
      "Epoch 146/150\n",
      "768/768 [==============================] - 0s 107us/step - loss: 0.4566 - accuracy: 0.7760\n",
      "Epoch 147/150\n",
      "768/768 [==============================] - 0s 104us/step - loss: 0.4635 - accuracy: 0.7760\n",
      "Epoch 148/150\n",
      "768/768 [==============================] - 0s 105us/step - loss: 0.4617 - accuracy: 0.7878\n",
      "Epoch 149/150\n",
      "768/768 [==============================] - 0s 105us/step - loss: 0.4555 - accuracy: 0.7747\n",
      "Epoch 150/150\n",
      "768/768 [==============================] - 0s 112us/step - loss: 0.4516 - accuracy: 0.7786\n"
     ]
    },
    {
     "data": {
      "text/plain": [
       "<keras.callbacks.callbacks.History at 0x7efd5de6b6d8>"
      ]
     },
     "execution_count": 9,
     "metadata": {},
     "output_type": "execute_result"
    }
   ],
   "source": [
    "model.fit(X,Y,epochs=150,batch_size=10,verbose=1)"
   ]
  },
  {
   "cell_type": "code",
   "execution_count": 10,
   "metadata": {},
   "outputs": [],
   "source": [
    "scores = model.evaluate(X,Y,verbose=0)"
   ]
  },
  {
   "cell_type": "code",
   "execution_count": 11,
   "metadata": {},
   "outputs": [
    {
     "name": "stdout",
     "output_type": "stream",
     "text": [
      "accuracy: 79.30%\n"
     ]
    }
   ],
   "source": [
    "print(\"%s: %.2f%%\"%(model.metrics_names[1],scores[1]*100))"
   ]
  },
  {
   "cell_type": "code",
   "execution_count": 13,
   "metadata": {},
   "outputs": [],
   "source": [
    "model_json = model.to_json()\n",
    "with open(\"model.json\",\"w\")as json_file:\n",
    "    json_file.write(model_json)"
   ]
  },
  {
   "cell_type": "code",
   "execution_count": 14,
   "metadata": {},
   "outputs": [
    {
     "name": "stdout",
     "output_type": "stream",
     "text": [
      "Saved model to disk\n"
     ]
    }
   ],
   "source": [
    "model.save_weights(\"model.h5\")\n",
    "print(\"Saved model to disk\")"
   ]
  },
  {
   "cell_type": "code",
   "execution_count": 15,
   "metadata": {},
   "outputs": [],
   "source": [
    "json_file = open('model.json','r')\n",
    "loaded_model_json = json_file.read()\n",
    "json_file.close()"
   ]
  },
  {
   "cell_type": "code",
   "execution_count": 16,
   "metadata": {},
   "outputs": [],
   "source": [
    "loaded_model = model_from_json(loaded_model_json)"
   ]
  },
  {
   "cell_type": "code",
   "execution_count": 17,
   "metadata": {},
   "outputs": [
    {
     "name": "stdout",
     "output_type": "stream",
     "text": [
      "Loaded model from disk\n"
     ]
    }
   ],
   "source": [
    "loaded_model.load_weights(\"model.h5\")\n",
    "print(\"Loaded model from disk\")"
   ]
  },
  {
   "cell_type": "code",
   "execution_count": 18,
   "metadata": {},
   "outputs": [],
   "source": [
    "loaded_model.compile(loss=\"binary_crossentropy\",optimizer=\"rmsprop\",metrics=[\"accuracy\"])"
   ]
  },
  {
   "cell_type": "code",
   "execution_count": 19,
   "metadata": {},
   "outputs": [],
   "source": [
    "score = loaded_model.evaluate(X,Y,verbose=0)"
   ]
  },
  {
   "cell_type": "code",
   "execution_count": 20,
   "metadata": {},
   "outputs": [
    {
     "name": "stdout",
     "output_type": "stream",
     "text": [
      "accuracy: 79.30%\n"
     ]
    }
   ],
   "source": [
    "print(\"%s: %.2f%%\"%(loaded_model.metrics_names[1],score[1]*100))"
   ]
  },
  {
   "cell_type": "markdown",
   "metadata": {},
   "source": [
    "Save model to YAML"
   ]
  },
  {
   "cell_type": "code",
   "execution_count": 21,
   "metadata": {},
   "outputs": [],
   "source": [
    "from keras.models import model_from_yaml"
   ]
  },
  {
   "cell_type": "code",
   "execution_count": 22,
   "metadata": {},
   "outputs": [],
   "source": [
    "model_yaml = model.to_yaml()"
   ]
  },
  {
   "cell_type": "code",
   "execution_count": 23,
   "metadata": {},
   "outputs": [],
   "source": [
    "with open (\"model.yaml\",\"w\") as yaml_file:\n",
    "    yaml_file.write(model_yaml)"
   ]
  },
  {
   "cell_type": "code",
   "execution_count": 24,
   "metadata": {},
   "outputs": [
    {
     "name": "stdout",
     "output_type": "stream",
     "text": [
      "Saved model to disk\n"
     ]
    }
   ],
   "source": [
    "model.save_weights(\"model.h5\")\n",
    "print(\"Saved model to disk\")"
   ]
  },
  {
   "cell_type": "code",
   "execution_count": 25,
   "metadata": {},
   "outputs": [],
   "source": [
    "yaml_file = open('model.yaml','r')"
   ]
  },
  {
   "cell_type": "code",
   "execution_count": 26,
   "metadata": {},
   "outputs": [],
   "source": [
    "loaded_model_yaml=yaml_file.read()\n",
    "yaml_file.close()\n",
    "loaded_model = model_from_yaml(loaded_model_yaml)"
   ]
  },
  {
   "cell_type": "code",
   "execution_count": 27,
   "metadata": {},
   "outputs": [
    {
     "name": "stdout",
     "output_type": "stream",
     "text": [
      "Loaded model from disk\n"
     ]
    }
   ],
   "source": [
    "loaded_model.load_weights(\"model.h5\")\n",
    "print(\"Loaded model from disk\")"
   ]
  },
  {
   "cell_type": "code",
   "execution_count": 28,
   "metadata": {},
   "outputs": [],
   "source": [
    "loaded_model.compile(loss=\"binary_crossentropy\",optimizer='rmsprop',metrics=['accuracy'])"
   ]
  },
  {
   "cell_type": "code",
   "execution_count": 29,
   "metadata": {},
   "outputs": [],
   "source": [
    "score = loaded_model.evaluate(X,Y,verbose=0)"
   ]
  },
  {
   "cell_type": "code",
   "execution_count": 32,
   "metadata": {},
   "outputs": [
    {
     "name": "stdout",
     "output_type": "stream",
     "text": [
      "accuracy: 79.30%\n"
     ]
    }
   ],
   "source": [
    "print(\"%s: %.2f%%\"%(loaded_model.metrics_names[1],score[1]*100))"
   ]
  },
  {
   "cell_type": "code",
   "execution_count": null,
   "metadata": {},
   "outputs": [],
   "source": []
  }
 ],
 "metadata": {
  "kernelspec": {
   "display_name": "Python 3",
   "language": "python",
   "name": "python3"
  },
  "language_info": {
   "codemirror_mode": {
    "name": "ipython",
    "version": 3
   },
   "file_extension": ".py",
   "mimetype": "text/x-python",
   "name": "python",
   "nbconvert_exporter": "python",
   "pygments_lexer": "ipython3",
   "version": "3.6.8"
  }
 },
 "nbformat": 4,
 "nbformat_minor": 2
}
