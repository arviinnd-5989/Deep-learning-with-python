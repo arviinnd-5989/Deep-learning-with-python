{
 "cells": [
  {
   "cell_type": "markdown",
   "metadata": {},
   "source": [
    "Baseline model"
   ]
  },
  {
   "cell_type": "code",
   "execution_count": 2,
   "metadata": {},
   "outputs": [],
   "source": [
    "import numpy\n",
    "import pandas\n",
    "from keras.models import Sequential\n",
    "from keras.layers import Dense\n",
    "from keras.layers import Dropout\n",
    "from keras.wrappers.scikit_learn import KerasClassifier\n",
    "from keras.constraints import maxnorm\n",
    "from keras.optimizers import SGD\n",
    "from sklearn.model_selection import cross_val_score\n",
    "from sklearn.preprocessing import LabelEncoder\n",
    "from sklearn.model_selection import StratifiedKFold\n",
    "from sklearn.preprocessing import StandardScaler\n",
    "from sklearn.pipeline import Pipeline"
   ]
  },
  {
   "cell_type": "code",
   "execution_count": 3,
   "metadata": {},
   "outputs": [],
   "source": [
    "seed = 7\n",
    "numpy.random.seed(seed)"
   ]
  },
  {
   "cell_type": "code",
   "execution_count": 6,
   "metadata": {},
   "outputs": [],
   "source": [
    "dataframe = pandas.read_csv(\"sonar.all-data.csv\", header=None)\n",
    "dataset = dataframe.values"
   ]
  },
  {
   "cell_type": "code",
   "execution_count": 7,
   "metadata": {},
   "outputs": [],
   "source": [
    "X = dataset[:,0:60].astype(float)\n",
    "Y = dataset[:,60]"
   ]
  },
  {
   "cell_type": "code",
   "execution_count": 8,
   "metadata": {},
   "outputs": [],
   "source": [
    "encoder = LabelEncoder()\n",
    "encoder.fit(Y)\n",
    "encoded_Y = encoder.transform(Y)"
   ]
  },
  {
   "cell_type": "code",
   "execution_count": 9,
   "metadata": {},
   "outputs": [],
   "source": [
    "def create_baseline():\n",
    "    model = Sequential()\n",
    "    model.add(Dense(60,input_dim=60,kernel_initializer='normal',activation='relu'))\n",
    "    model.add(Dense(30,kernel_initializer='normal',activation='relu'))\n",
    "    model.add(Dense(1,kernel_initializer='normal',activation='sigmoid'))\n",
    "    \n",
    "    sgd = SGD(lr=0.01,momentum=0.8,decay=0.0,nesterov=False)\n",
    "    (model.compile(lo)ss='binary_crossentropy',optimizer=sgd,metrics=['accuracy'])\n",
    "    return model"
   ]
  },
  {
   "cell_type": "code",
   "execution_count": 10,
   "metadata": {},
   "outputs": [
    {
     "name": "stderr",
     "output_type": "stream",
     "text": [
      "W0424 11:58:12.492362 139840663369536 deprecation.py:506] From /home/arvind/.local/lib/python3.6/site-packages/tensorflow_core/python/ops/resource_variable_ops.py:1633: calling BaseResourceVariable.__init__ (from tensorflow.python.ops.resource_variable_ops) with constraint is deprecated and will be removed in a future version.\n",
      "Instructions for updating:\n",
      "If using Keras pass *_constraint arguments to layers.\n",
      "W0424 11:58:12.677210 139840663369536 deprecation.py:323] From /home/arvind/.local/lib/python3.6/site-packages/tensorflow_core/python/ops/nn_impl.py:183: where (from tensorflow.python.ops.array_ops) is deprecated and will be removed in a future version.\n",
      "Instructions for updating:\n",
      "Use tf.where in 2.0, which has the same broadcast rule as np.where\n",
      "W0424 11:58:12.942460 139840663369536 deprecation.py:323] From /home/arvind/.local/lib/python3.6/site-packages/keras/optimizers.py:214: BaseResourceVariable.constraint (from tensorflow.python.ops.resource_variable_ops) is deprecated and will be removed in a future version.\n",
      "Instructions for updating:\n",
      "Apply a constraint manually following the optimizer update step.\n",
      "W0424 11:58:13.548555 139840663369536 module_wrapper.py:136] From /home/arvind/.local/lib/python3.6/site-packages/tensorflow_core/python/util/module_wrapper.py:163: The name tf.global_variables is deprecated. Please use tf.compat.v1.global_variables instead.\n",
      "\n"
     ]
    }
   ],
   "source": [
    "numpy.random.seed(seed)\n",
    "estimators = []\n",
    "estimators.append(('standardize',StandardScaler()))\n",
    "estimators.append(('mlp',KerasClassifier(build_fn=create_baseline,epochs=300,batch_size=16,verbose=0)))\n",
    "pipeline = Pipeline(estimators)\n",
    "kfold = StratifiedKFold(n_splits=10,shuffle=True,random_state=seed)\n",
    "results = cross_val_score(pipeline,X,encoded_Y,cv=kfold)"
   ]
  },
  {
   "cell_type": "code",
   "execution_count": 11,
   "metadata": {},
   "outputs": [
    {
     "name": "stdout",
     "output_type": "stream",
     "text": [
      "Baseline: 84.10% (6.31%)\n"
     ]
    }
   ],
   "source": [
    "print(\"Baseline: %.2f%% (%.2f%%)\" %(results.mean()*100, results.std()*100))"
   ]
  },
  {
   "cell_type": "markdown",
   "metadata": {},
   "source": [
    "Dropout on Visible layer"
   ]
  },
  {
   "cell_type": "code",
   "execution_count": 19,
   "metadata": {},
   "outputs": [],
   "source": [
    "def create_model():\n",
    "    model  = Sequential()\n",
    "    model.add(Dropout(0.2,input_shape=(60,)))\n",
    "    model.add(Dense(60,kernel_initializer='normal',activation='relu',W_constraint=maxnorm(3)))\n",
    "    model.add(Dense(30,kernel_initializer='normal',activation='relu',W_constraint=maxnorm(3)))\n",
    "    model.add(Dense(1,kernel_initializer='normal',activation='sigmoid'))\n",
    "    sgd = SGD(lr=0.1,momentum=0.9,decay=0.0,nesterov=False)\n",
    "    model.compile(loss='binary_crossentropy',optimizer=sgd,metrics=['accuracy'])\n",
    "    return model"
   ]
  },
  {
   "cell_type": "code",
   "execution_count": 20,
   "metadata": {},
   "outputs": [
    {
     "data": {
      "text/plain": [
       "('mlp', <keras.wrappers.scikit_learn.KerasClassifier at 0x7f2e9c089860>)"
      ]
     },
     "execution_count": 20,
     "metadata": {},
     "output_type": "execute_result"
    }
   ],
   "source": [
    "estimators.pop()"
   ]
  },
  {
   "cell_type": "code",
   "execution_count": 21,
   "metadata": {},
   "outputs": [],
   "source": [
    "estimators.append(('mlp',KerasClassifier(build_fn=create_model,epochs=300,batch_size=16,verbose=0)))"
   ]
  },
  {
   "cell_type": "code",
   "execution_count": 22,
   "metadata": {},
   "outputs": [],
   "source": [
    "pipeline = Pipeline(estimators)"
   ]
  },
  {
   "cell_type": "code",
   "execution_count": 23,
   "metadata": {},
   "outputs": [
    {
     "name": "stderr",
     "output_type": "stream",
     "text": [
      "/home/arvind/.local/lib/python3.6/site-packages/ipykernel_launcher.py:4: UserWarning: Update your `Dense` call to the Keras 2 API: `Dense(60, kernel_initializer=\"normal\", activation=\"relu\", kernel_constraint=<keras.con...)`\n",
      "  after removing the cwd from sys.path.\n",
      "/home/arvind/.local/lib/python3.6/site-packages/ipykernel_launcher.py:5: UserWarning: Update your `Dense` call to the Keras 2 API: `Dense(30, kernel_initializer=\"normal\", activation=\"relu\", kernel_constraint=<keras.con...)`\n",
      "  \"\"\"\n",
      "/home/arvind/.local/lib/python3.6/site-packages/ipykernel_launcher.py:4: UserWarning: Update your `Dense` call to the Keras 2 API: `Dense(60, kernel_initializer=\"normal\", activation=\"relu\", kernel_constraint=<keras.con...)`\n",
      "  after removing the cwd from sys.path.\n",
      "/home/arvind/.local/lib/python3.6/site-packages/ipykernel_launcher.py:5: UserWarning: Update your `Dense` call to the Keras 2 API: `Dense(30, kernel_initializer=\"normal\", activation=\"relu\", kernel_constraint=<keras.con...)`\n",
      "  \"\"\"\n",
      "/home/arvind/.local/lib/python3.6/site-packages/ipykernel_launcher.py:4: UserWarning: Update your `Dense` call to the Keras 2 API: `Dense(60, kernel_initializer=\"normal\", activation=\"relu\", kernel_constraint=<keras.con...)`\n",
      "  after removing the cwd from sys.path.\n",
      "/home/arvind/.local/lib/python3.6/site-packages/ipykernel_launcher.py:5: UserWarning: Update your `Dense` call to the Keras 2 API: `Dense(30, kernel_initializer=\"normal\", activation=\"relu\", kernel_constraint=<keras.con...)`\n",
      "  \"\"\"\n",
      "/home/arvind/.local/lib/python3.6/site-packages/ipykernel_launcher.py:4: UserWarning: Update your `Dense` call to the Keras 2 API: `Dense(60, kernel_initializer=\"normal\", activation=\"relu\", kernel_constraint=<keras.con...)`\n",
      "  after removing the cwd from sys.path.\n",
      "/home/arvind/.local/lib/python3.6/site-packages/ipykernel_launcher.py:5: UserWarning: Update your `Dense` call to the Keras 2 API: `Dense(30, kernel_initializer=\"normal\", activation=\"relu\", kernel_constraint=<keras.con...)`\n",
      "  \"\"\"\n",
      "/home/arvind/.local/lib/python3.6/site-packages/ipykernel_launcher.py:4: UserWarning: Update your `Dense` call to the Keras 2 API: `Dense(60, kernel_initializer=\"normal\", activation=\"relu\", kernel_constraint=<keras.con...)`\n",
      "  after removing the cwd from sys.path.\n",
      "/home/arvind/.local/lib/python3.6/site-packages/ipykernel_launcher.py:5: UserWarning: Update your `Dense` call to the Keras 2 API: `Dense(30, kernel_initializer=\"normal\", activation=\"relu\", kernel_constraint=<keras.con...)`\n",
      "  \"\"\"\n",
      "/home/arvind/.local/lib/python3.6/site-packages/ipykernel_launcher.py:4: UserWarning: Update your `Dense` call to the Keras 2 API: `Dense(60, kernel_initializer=\"normal\", activation=\"relu\", kernel_constraint=<keras.con...)`\n",
      "  after removing the cwd from sys.path.\n",
      "/home/arvind/.local/lib/python3.6/site-packages/ipykernel_launcher.py:5: UserWarning: Update your `Dense` call to the Keras 2 API: `Dense(30, kernel_initializer=\"normal\", activation=\"relu\", kernel_constraint=<keras.con...)`\n",
      "  \"\"\"\n",
      "/home/arvind/.local/lib/python3.6/site-packages/ipykernel_launcher.py:4: UserWarning: Update your `Dense` call to the Keras 2 API: `Dense(60, kernel_initializer=\"normal\", activation=\"relu\", kernel_constraint=<keras.con...)`\n",
      "  after removing the cwd from sys.path.\n",
      "/home/arvind/.local/lib/python3.6/site-packages/ipykernel_launcher.py:5: UserWarning: Update your `Dense` call to the Keras 2 API: `Dense(30, kernel_initializer=\"normal\", activation=\"relu\", kernel_constraint=<keras.con...)`\n",
      "  \"\"\"\n",
      "/home/arvind/.local/lib/python3.6/site-packages/ipykernel_launcher.py:4: UserWarning: Update your `Dense` call to the Keras 2 API: `Dense(60, kernel_initializer=\"normal\", activation=\"relu\", kernel_constraint=<keras.con...)`\n",
      "  after removing the cwd from sys.path.\n",
      "/home/arvind/.local/lib/python3.6/site-packages/ipykernel_launcher.py:5: UserWarning: Update your `Dense` call to the Keras 2 API: `Dense(30, kernel_initializer=\"normal\", activation=\"relu\", kernel_constraint=<keras.con...)`\n",
      "  \"\"\"\n",
      "/home/arvind/.local/lib/python3.6/site-packages/ipykernel_launcher.py:4: UserWarning: Update your `Dense` call to the Keras 2 API: `Dense(60, kernel_initializer=\"normal\", activation=\"relu\", kernel_constraint=<keras.con...)`\n",
      "  after removing the cwd from sys.path.\n",
      "/home/arvind/.local/lib/python3.6/site-packages/ipykernel_launcher.py:5: UserWarning: Update your `Dense` call to the Keras 2 API: `Dense(30, kernel_initializer=\"normal\", activation=\"relu\", kernel_constraint=<keras.con...)`\n",
      "  \"\"\"\n",
      "/home/arvind/.local/lib/python3.6/site-packages/ipykernel_launcher.py:4: UserWarning: Update your `Dense` call to the Keras 2 API: `Dense(60, kernel_initializer=\"normal\", activation=\"relu\", kernel_constraint=<keras.con...)`\n",
      "  after removing the cwd from sys.path.\n",
      "/home/arvind/.local/lib/python3.6/site-packages/ipykernel_launcher.py:5: UserWarning: Update your `Dense` call to the Keras 2 API: `Dense(30, kernel_initializer=\"normal\", activation=\"relu\", kernel_constraint=<keras.con...)`\n",
      "  \"\"\"\n"
     ]
    }
   ],
   "source": [
    "results = cross_val_score(pipeline,X,encoded_Y,cv=kfold)"
   ]
  },
  {
   "cell_type": "code",
   "execution_count": 24,
   "metadata": {},
   "outputs": [
    {
     "name": "stdout",
     "output_type": "stream",
     "text": [
      "Visible: 86.05% (8.49%)\n"
     ]
    }
   ],
   "source": [
    "print(\"Visible: %.2f%% (%.2f%%)\" %(results.mean()*100, results.std()*100))"
   ]
  },
  {
   "cell_type": "markdown",
   "metadata": {},
   "source": [
    "Dropout on Hidden layer"
   ]
  },
  {
   "cell_type": "code",
   "execution_count": 29,
   "metadata": {},
   "outputs": [],
   "source": [
    "def create_model():\n",
    "    model = Sequential()\n",
    "    model.add(Dense(60,input_dim=60,kernel_initializer=\"normal\",activation=\"relu\",W_constraint=maxnorm(3)))\n",
    "    model.add(Dropout(0.2))\n",
    "    model.add(Dense(30,kernel_initializer='normal',activation='relu',W_constraint=maxnorm(3)))\n",
    "    model.add(Dropout(0.2))\n",
    "    model.add(Dense(1,kernel_initializer='normal',activation='sigmoid'))\n",
    "    \n",
    "    sgd = SGD(lr=0.1,momentum=0.9,decay=0.0,nesterov=False)\n",
    "    model.compile(loss='binary_crossentropy',optimizer=sgd,metrics=['accuracy'])\n",
    "    return model"
   ]
  },
  {
   "cell_type": "code",
   "execution_count": 30,
   "metadata": {},
   "outputs": [
    {
     "data": {
      "text/plain": [
       "('mlp', <keras.wrappers.scikit_learn.KerasClassifier at 0x7f2e8130dcf8>)"
      ]
     },
     "execution_count": 30,
     "metadata": {},
     "output_type": "execute_result"
    }
   ],
   "source": [
    "estimators.pop()"
   ]
  },
  {
   "cell_type": "code",
   "execution_count": 31,
   "metadata": {},
   "outputs": [],
   "source": [
    "estimators.append(('mlp',KerasClassifier(build_fn=create_model,epochs=300,batch_size=16,verbose=0)))\n",
    "pipeline = Pipeline(estimators)"
   ]
  },
  {
   "cell_type": "code",
   "execution_count": 32,
   "metadata": {},
   "outputs": [
    {
     "name": "stderr",
     "output_type": "stream",
     "text": [
      "/home/arvind/.local/lib/python3.6/site-packages/ipykernel_launcher.py:3: UserWarning: Update your `Dense` call to the Keras 2 API: `Dense(60, input_dim=60, kernel_initializer=\"normal\", activation=\"relu\", kernel_constraint=<keras.con...)`\n",
      "  This is separate from the ipykernel package so we can avoid doing imports until\n",
      "/home/arvind/.local/lib/python3.6/site-packages/ipykernel_launcher.py:5: UserWarning: Update your `Dense` call to the Keras 2 API: `Dense(30, kernel_initializer=\"normal\", activation=\"relu\", kernel_constraint=<keras.con...)`\n",
      "  \"\"\"\n",
      "/home/arvind/.local/lib/python3.6/site-packages/ipykernel_launcher.py:3: UserWarning: Update your `Dense` call to the Keras 2 API: `Dense(60, input_dim=60, kernel_initializer=\"normal\", activation=\"relu\", kernel_constraint=<keras.con...)`\n",
      "  This is separate from the ipykernel package so we can avoid doing imports until\n",
      "/home/arvind/.local/lib/python3.6/site-packages/ipykernel_launcher.py:5: UserWarning: Update your `Dense` call to the Keras 2 API: `Dense(30, kernel_initializer=\"normal\", activation=\"relu\", kernel_constraint=<keras.con...)`\n",
      "  \"\"\"\n",
      "/home/arvind/.local/lib/python3.6/site-packages/ipykernel_launcher.py:3: UserWarning: Update your `Dense` call to the Keras 2 API: `Dense(60, input_dim=60, kernel_initializer=\"normal\", activation=\"relu\", kernel_constraint=<keras.con...)`\n",
      "  This is separate from the ipykernel package so we can avoid doing imports until\n",
      "/home/arvind/.local/lib/python3.6/site-packages/ipykernel_launcher.py:5: UserWarning: Update your `Dense` call to the Keras 2 API: `Dense(30, kernel_initializer=\"normal\", activation=\"relu\", kernel_constraint=<keras.con...)`\n",
      "  \"\"\"\n",
      "/home/arvind/.local/lib/python3.6/site-packages/ipykernel_launcher.py:3: UserWarning: Update your `Dense` call to the Keras 2 API: `Dense(60, input_dim=60, kernel_initializer=\"normal\", activation=\"relu\", kernel_constraint=<keras.con...)`\n",
      "  This is separate from the ipykernel package so we can avoid doing imports until\n",
      "/home/arvind/.local/lib/python3.6/site-packages/ipykernel_launcher.py:5: UserWarning: Update your `Dense` call to the Keras 2 API: `Dense(30, kernel_initializer=\"normal\", activation=\"relu\", kernel_constraint=<keras.con...)`\n",
      "  \"\"\"\n",
      "/home/arvind/.local/lib/python3.6/site-packages/ipykernel_launcher.py:3: UserWarning: Update your `Dense` call to the Keras 2 API: `Dense(60, input_dim=60, kernel_initializer=\"normal\", activation=\"relu\", kernel_constraint=<keras.con...)`\n",
      "  This is separate from the ipykernel package so we can avoid doing imports until\n",
      "/home/arvind/.local/lib/python3.6/site-packages/ipykernel_launcher.py:5: UserWarning: Update your `Dense` call to the Keras 2 API: `Dense(30, kernel_initializer=\"normal\", activation=\"relu\", kernel_constraint=<keras.con...)`\n",
      "  \"\"\"\n",
      "/home/arvind/.local/lib/python3.6/site-packages/ipykernel_launcher.py:3: UserWarning: Update your `Dense` call to the Keras 2 API: `Dense(60, input_dim=60, kernel_initializer=\"normal\", activation=\"relu\", kernel_constraint=<keras.con...)`\n",
      "  This is separate from the ipykernel package so we can avoid doing imports until\n",
      "/home/arvind/.local/lib/python3.6/site-packages/ipykernel_launcher.py:5: UserWarning: Update your `Dense` call to the Keras 2 API: `Dense(30, kernel_initializer=\"normal\", activation=\"relu\", kernel_constraint=<keras.con...)`\n",
      "  \"\"\"\n",
      "/home/arvind/.local/lib/python3.6/site-packages/ipykernel_launcher.py:3: UserWarning: Update your `Dense` call to the Keras 2 API: `Dense(60, input_dim=60, kernel_initializer=\"normal\", activation=\"relu\", kernel_constraint=<keras.con...)`\n",
      "  This is separate from the ipykernel package so we can avoid doing imports until\n",
      "/home/arvind/.local/lib/python3.6/site-packages/ipykernel_launcher.py:5: UserWarning: Update your `Dense` call to the Keras 2 API: `Dense(30, kernel_initializer=\"normal\", activation=\"relu\", kernel_constraint=<keras.con...)`\n",
      "  \"\"\"\n",
      "/home/arvind/.local/lib/python3.6/site-packages/ipykernel_launcher.py:3: UserWarning: Update your `Dense` call to the Keras 2 API: `Dense(60, input_dim=60, kernel_initializer=\"normal\", activation=\"relu\", kernel_constraint=<keras.con...)`\n",
      "  This is separate from the ipykernel package so we can avoid doing imports until\n",
      "/home/arvind/.local/lib/python3.6/site-packages/ipykernel_launcher.py:5: UserWarning: Update your `Dense` call to the Keras 2 API: `Dense(30, kernel_initializer=\"normal\", activation=\"relu\", kernel_constraint=<keras.con...)`\n",
      "  \"\"\"\n",
      "/home/arvind/.local/lib/python3.6/site-packages/ipykernel_launcher.py:3: UserWarning: Update your `Dense` call to the Keras 2 API: `Dense(60, input_dim=60, kernel_initializer=\"normal\", activation=\"relu\", kernel_constraint=<keras.con...)`\n",
      "  This is separate from the ipykernel package so we can avoid doing imports until\n",
      "/home/arvind/.local/lib/python3.6/site-packages/ipykernel_launcher.py:5: UserWarning: Update your `Dense` call to the Keras 2 API: `Dense(30, kernel_initializer=\"normal\", activation=\"relu\", kernel_constraint=<keras.con...)`\n",
      "  \"\"\"\n",
      "/home/arvind/.local/lib/python3.6/site-packages/ipykernel_launcher.py:3: UserWarning: Update your `Dense` call to the Keras 2 API: `Dense(60, input_dim=60, kernel_initializer=\"normal\", activation=\"relu\", kernel_constraint=<keras.con...)`\n",
      "  This is separate from the ipykernel package so we can avoid doing imports until\n",
      "/home/arvind/.local/lib/python3.6/site-packages/ipykernel_launcher.py:5: UserWarning: Update your `Dense` call to the Keras 2 API: `Dense(30, kernel_initializer=\"normal\", activation=\"relu\", kernel_constraint=<keras.con...)`\n",
      "  \"\"\"\n"
     ]
    }
   ],
   "source": [
    "results = cross_val_score(pipeline,X,encoded_Y,cv=kfold)"
   ]
  },
  {
   "cell_type": "code",
   "execution_count": 33,
   "metadata": {},
   "outputs": [
    {
     "name": "stdout",
     "output_type": "stream",
     "text": [
      "Hidden: 83.12% (8.62%)\n"
     ]
    }
   ],
   "source": [
    "print(\"Hidden: %.2f%% (%.2f%%)\"%(results.mean()*100,results.std()*100))"
   ]
  },
  {
   "cell_type": "code",
   "execution_count": null,
   "metadata": {},
   "outputs": [],
   "source": []
  }
 ],
 "metadata": {
  "kernelspec": {
   "display_name": "Python 3",
   "language": "python",
   "name": "python3"
  },
  "language_info": {
   "codemirror_mode": {
    "name": "ipython",
    "version": 3
   },
   "file_extension": ".py",
   "mimetype": "text/x-python",
   "name": "python",
   "nbconvert_exporter": "python",
   "pygments_lexer": "ipython3",
   "version": "3.6.8"
  }
 },
 "nbformat": 4,
 "nbformat_minor": 2
}
