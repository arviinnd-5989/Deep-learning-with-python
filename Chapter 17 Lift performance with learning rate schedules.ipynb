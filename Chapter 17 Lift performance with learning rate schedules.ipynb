{
 "cells": [
  {
   "cell_type": "markdown",
   "metadata": {},
   "source": [
    "Time based learning rate decay"
   ]
  },
  {
   "cell_type": "code",
   "execution_count": 1,
   "metadata": {},
   "outputs": [
    {
     "name": "stderr",
     "output_type": "stream",
     "text": [
      "/usr/lib/python3.6/importlib/_bootstrap.py:219: RuntimeWarning: numpy.ufunc size changed, may indicate binary incompatibility. Expected 192 from C header, got 216 from PyObject\n",
      "  return f(*args, **kwds)\n",
      "/usr/lib/python3.6/importlib/_bootstrap.py:219: RuntimeWarning: numpy.ufunc size changed, may indicate binary incompatibility. Expected 192 from C header, got 216 from PyObject\n",
      "  return f(*args, **kwds)\n",
      "Using TensorFlow backend.\n",
      "/usr/lib/python3.6/importlib/_bootstrap.py:219: RuntimeWarning: numpy.ufunc size changed, may indicate binary incompatibility. Expected 216, got 192\n",
      "  return f(*args, **kwds)\n",
      "/usr/lib/python3.6/importlib/_bootstrap.py:219: RuntimeWarning: numpy.ufunc size changed, may indicate binary incompatibility. Expected 192 from C header, got 216 from PyObject\n",
      "  return f(*args, **kwds)\n"
     ]
    }
   ],
   "source": [
    "import pandas\n",
    "import numpy\n",
    "from keras.models import Sequential\n",
    "from keras.layers import Dense\n",
    "from keras.optimizers import SGD\n",
    "from sklearn.preprocessing import LabelEncoder"
   ]
  },
  {
   "cell_type": "code",
   "execution_count": 2,
   "metadata": {},
   "outputs": [],
   "source": [
    "seed = 7\n",
    "numpy.random.seed(seed)"
   ]
  },
  {
   "cell_type": "code",
   "execution_count": 5,
   "metadata": {},
   "outputs": [],
   "source": [
    "dataframe = pandas.read_csv(\"ionosphere.data.csv\", header = None)\n",
    "dataset = dataframe.values\n",
    "X = dataset[:,0:34].astype(float)\n",
    "Y = dataset[:,34]"
   ]
  },
  {
   "cell_type": "code",
   "execution_count": 8,
   "metadata": {},
   "outputs": [],
   "source": [
    "encoder = LabelEncoder()\n",
    "encoder.fit(Y)\n",
    "Y=encoder.transform(Y)"
   ]
  },
  {
   "cell_type": "code",
   "execution_count": 9,
   "metadata": {},
   "outputs": [
    {
     "name": "stderr",
     "output_type": "stream",
     "text": [
      "W0424 14:28:25.468284 139920386156352 deprecation.py:506] From /home/arvind/.local/lib/python3.6/site-packages/tensorflow_core/python/ops/resource_variable_ops.py:1633: calling BaseResourceVariable.__init__ (from tensorflow.python.ops.resource_variable_ops) with constraint is deprecated and will be removed in a future version.\n",
      "Instructions for updating:\n",
      "If using Keras pass *_constraint arguments to layers.\n"
     ]
    }
   ],
   "source": [
    "model = Sequential()\n",
    "model.add(Dense(34,input_dim=34,kernel_initializer='normal',activation='relu'))\n",
    "model.add(Dense(1,kernel_initializer = 'normal',activation='sigmoid'))"
   ]
  },
  {
   "cell_type": "code",
   "execution_count": 10,
   "metadata": {},
   "outputs": [],
   "source": [
    "epochs = 50\n",
    "learning_rate = 0.1\n",
    "decay_rate = learning_rate/epochs\n",
    "momentum=0.8"
   ]
  },
  {
   "cell_type": "code",
   "execution_count": 12,
   "metadata": {},
   "outputs": [],
   "source": [
    "sgd = SGD(lr=learning_rate,momentum=momentum,decay=decay_rate,nesterov=False)"
   ]
  },
  {
   "cell_type": "code",
   "execution_count": 13,
   "metadata": {},
   "outputs": [
    {
     "name": "stderr",
     "output_type": "stream",
     "text": [
      "W0424 14:30:22.099767 139920386156352 deprecation.py:323] From /home/arvind/.local/lib/python3.6/site-packages/tensorflow_core/python/ops/nn_impl.py:183: where (from tensorflow.python.ops.array_ops) is deprecated and will be removed in a future version.\n",
      "Instructions for updating:\n",
      "Use tf.where in 2.0, which has the same broadcast rule as np.where\n"
     ]
    }
   ],
   "source": [
    "model.compile(loss='binary_crossentropy',optimizer=sgd,metrics=['accuracy'])"
   ]
  },
  {
   "cell_type": "code",
   "execution_count": 14,
   "metadata": {},
   "outputs": [
    {
     "name": "stderr",
     "output_type": "stream",
     "text": [
      "W0424 14:30:58.046629 139920386156352 deprecation.py:323] From /home/arvind/.local/lib/python3.6/site-packages/keras/optimizers.py:214: BaseResourceVariable.constraint (from tensorflow.python.ops.resource_variable_ops) is deprecated and will be removed in a future version.\n",
      "Instructions for updating:\n",
      "Apply a constraint manually following the optimizer update step.\n",
      "W0424 14:30:58.171683 139920386156352 module_wrapper.py:136] From /home/arvind/.local/lib/python3.6/site-packages/tensorflow_core/python/util/module_wrapper.py:163: The name tf.global_variables is deprecated. Please use tf.compat.v1.global_variables instead.\n",
      "\n"
     ]
    },
    {
     "name": "stdout",
     "output_type": "stream",
     "text": [
      "Train on 235 samples, validate on 116 samples\n",
      "Epoch 1/50\n",
      " - 0s - loss: 0.6813 - accuracy: 0.6468 - val_loss: 0.6380 - val_accuracy: 0.8621\n",
      "Epoch 2/50\n",
      " - 0s - loss: 0.6370 - accuracy: 0.7319 - val_loss: 0.5292 - val_accuracy: 0.8276\n",
      "Epoch 3/50\n",
      " - 0s - loss: 0.5585 - accuracy: 0.8213 - val_loss: 0.4757 - val_accuracy: 0.8362\n",
      "Epoch 4/50\n",
      " - 0s - loss: 0.4680 - accuracy: 0.8383 - val_loss: 0.4419 - val_accuracy: 0.9224\n",
      "Epoch 5/50\n",
      " - 0s - loss: 0.3844 - accuracy: 0.8681 - val_loss: 0.2779 - val_accuracy: 0.9483\n",
      "Epoch 6/50\n",
      " - 0s - loss: 0.3162 - accuracy: 0.8851 - val_loss: 0.3921 - val_accuracy: 0.8879\n",
      "Epoch 7/50\n",
      " - 0s - loss: 0.2755 - accuracy: 0.9106 - val_loss: 0.2269 - val_accuracy: 0.9483\n",
      "Epoch 8/50\n",
      " - 0s - loss: 0.2405 - accuracy: 0.9106 - val_loss: 0.1437 - val_accuracy: 0.9569\n",
      "Epoch 9/50\n",
      " - 0s - loss: 0.2437 - accuracy: 0.9106 - val_loss: 0.2217 - val_accuracy: 0.9483\n",
      "Epoch 10/50\n",
      " - 0s - loss: 0.2028 - accuracy: 0.9191 - val_loss: 0.2543 - val_accuracy: 0.9224\n",
      "Epoch 11/50\n",
      " - 0s - loss: 0.1919 - accuracy: 0.9234 - val_loss: 0.1894 - val_accuracy: 0.9483\n",
      "Epoch 12/50\n",
      " - 0s - loss: 0.1726 - accuracy: 0.9404 - val_loss: 0.1133 - val_accuracy: 0.9655\n",
      "Epoch 13/50\n",
      " - 0s - loss: 0.1800 - accuracy: 0.9319 - val_loss: 0.1034 - val_accuracy: 0.9741\n",
      "Epoch 14/50\n",
      " - 0s - loss: 0.1663 - accuracy: 0.9362 - val_loss: 0.1694 - val_accuracy: 0.9569\n",
      "Epoch 15/50\n",
      " - 0s - loss: 0.1432 - accuracy: 0.9489 - val_loss: 0.0981 - val_accuracy: 0.9828\n",
      "Epoch 16/50\n",
      " - 0s - loss: 0.1477 - accuracy: 0.9447 - val_loss: 0.1684 - val_accuracy: 0.9569\n",
      "Epoch 17/50\n",
      " - 0s - loss: 0.1466 - accuracy: 0.9532 - val_loss: 0.1505 - val_accuracy: 0.9655\n",
      "Epoch 18/50\n",
      " - 0s - loss: 0.1353 - accuracy: 0.9489 - val_loss: 0.1209 - val_accuracy: 0.9914\n",
      "Epoch 19/50\n",
      " - 0s - loss: 0.1283 - accuracy: 0.9489 - val_loss: 0.0912 - val_accuracy: 0.9914\n",
      "Epoch 20/50\n",
      " - 0s - loss: 0.1219 - accuracy: 0.9660 - val_loss: 0.1098 - val_accuracy: 0.9914\n",
      "Epoch 21/50\n",
      " - 0s - loss: 0.1161 - accuracy: 0.9617 - val_loss: 0.1063 - val_accuracy: 0.9914\n",
      "Epoch 22/50\n",
      " - 0s - loss: 0.1093 - accuracy: 0.9574 - val_loss: 0.1080 - val_accuracy: 0.9914\n",
      "Epoch 23/50\n",
      " - 0s - loss: 0.1103 - accuracy: 0.9617 - val_loss: 0.1035 - val_accuracy: 0.9914\n",
      "Epoch 24/50\n",
      " - 0s - loss: 0.1018 - accuracy: 0.9660 - val_loss: 0.0760 - val_accuracy: 0.9914\n",
      "Epoch 25/50\n",
      " - 0s - loss: 0.1109 - accuracy: 0.9617 - val_loss: 0.1071 - val_accuracy: 0.9914\n",
      "Epoch 26/50\n",
      " - 0s - loss: 0.0959 - accuracy: 0.9617 - val_loss: 0.0861 - val_accuracy: 0.9914\n",
      "Epoch 27/50\n",
      " - 0s - loss: 0.0950 - accuracy: 0.9702 - val_loss: 0.0882 - val_accuracy: 0.9914\n",
      "Epoch 28/50\n",
      " - 0s - loss: 0.0946 - accuracy: 0.9702 - val_loss: 0.0894 - val_accuracy: 0.9914\n",
      "Epoch 29/50\n",
      " - 0s - loss: 0.0851 - accuracy: 0.9787 - val_loss: 0.0872 - val_accuracy: 0.9914\n",
      "Epoch 30/50\n",
      " - 0s - loss: 0.0871 - accuracy: 0.9745 - val_loss: 0.0883 - val_accuracy: 0.9914\n",
      "Epoch 31/50\n",
      " - 0s - loss: 0.0849 - accuracy: 0.9787 - val_loss: 0.0831 - val_accuracy: 0.9914\n",
      "Epoch 32/50\n",
      " - 0s - loss: 0.0814 - accuracy: 0.9787 - val_loss: 0.0853 - val_accuracy: 0.9914\n",
      "Epoch 33/50\n",
      " - 0s - loss: 0.0767 - accuracy: 0.9830 - val_loss: 0.0868 - val_accuracy: 0.9914\n",
      "Epoch 34/50\n",
      " - 0s - loss: 0.0803 - accuracy: 0.9787 - val_loss: 0.0963 - val_accuracy: 0.9914\n",
      "Epoch 35/50\n",
      " - 0s - loss: 0.0748 - accuracy: 0.9830 - val_loss: 0.0737 - val_accuracy: 0.9828\n",
      "Epoch 36/50\n",
      " - 0s - loss: 0.0759 - accuracy: 0.9830 - val_loss: 0.0777 - val_accuracy: 0.9828\n",
      "Epoch 37/50\n",
      " - 0s - loss: 0.0706 - accuracy: 0.9830 - val_loss: 0.0859 - val_accuracy: 0.9914\n",
      "Epoch 38/50\n",
      " - 0s - loss: 0.0714 - accuracy: 0.9787 - val_loss: 0.0716 - val_accuracy: 0.9914\n",
      "Epoch 39/50\n",
      " - 0s - loss: 0.0746 - accuracy: 0.9787 - val_loss: 0.0850 - val_accuracy: 0.9914\n",
      "Epoch 40/50\n",
      " - 0s - loss: 0.0694 - accuracy: 0.9787 - val_loss: 0.0728 - val_accuracy: 0.9914\n",
      "Epoch 41/50\n",
      " - 0s - loss: 0.0653 - accuracy: 0.9787 - val_loss: 0.0818 - val_accuracy: 0.9914\n",
      "Epoch 42/50\n",
      " - 0s - loss: 0.0666 - accuracy: 0.9787 - val_loss: 0.0845 - val_accuracy: 0.9914\n",
      "Epoch 43/50\n",
      " - 0s - loss: 0.0661 - accuracy: 0.9830 - val_loss: 0.0749 - val_accuracy: 0.9914\n",
      "Epoch 44/50\n",
      " - 0s - loss: 0.0658 - accuracy: 0.9787 - val_loss: 0.0673 - val_accuracy: 0.9828\n",
      "Epoch 45/50\n",
      " - 0s - loss: 0.0618 - accuracy: 0.9830 - val_loss: 0.0910 - val_accuracy: 0.9914\n",
      "Epoch 46/50\n",
      " - 0s - loss: 0.0686 - accuracy: 0.9787 - val_loss: 0.0690 - val_accuracy: 0.9914\n",
      "Epoch 47/50\n",
      " - 0s - loss: 0.0664 - accuracy: 0.9872 - val_loss: 0.0604 - val_accuracy: 0.9828\n",
      "Epoch 48/50\n",
      " - 0s - loss: 0.0627 - accuracy: 0.9872 - val_loss: 0.0798 - val_accuracy: 0.9914\n",
      "Epoch 49/50\n",
      " - 0s - loss: 0.0590 - accuracy: 0.9830 - val_loss: 0.0766 - val_accuracy: 0.9914\n",
      "Epoch 50/50\n",
      " - 0s - loss: 0.0591 - accuracy: 0.9830 - val_loss: 0.0617 - val_accuracy: 0.9828\n"
     ]
    },
    {
     "data": {
      "text/plain": [
       "<keras.callbacks.callbacks.History at 0x7f4163e2cb00>"
      ]
     },
     "execution_count": 14,
     "metadata": {},
     "output_type": "execute_result"
    }
   ],
   "source": [
    "model.fit(X,Y,validation_split=0.33,epochs = epochs,batch_size=28,verbose=2)"
   ]
  },
  {
   "cell_type": "markdown",
   "metadata": {},
   "source": [
    "Drop based learning rate scheduled"
   ]
  },
  {
   "cell_type": "code",
   "execution_count": 22,
   "metadata": {},
   "outputs": [],
   "source": [
    "import math\n",
    "from keras.callbacks import LearningRateScheduler"
   ]
  },
  {
   "cell_type": "code",
   "execution_count": 16,
   "metadata": {},
   "outputs": [],
   "source": [
    "def step_decay(epoch):\n",
    "    initial_lrate = 0.1\n",
    "    drop = 0.5\n",
    "    epochs_drop = 10.0\n",
    "    lrate = initial_lrate*math.pow(drop,math.floor((1+epoch)/epochs_drop))\n",
    "    return lrate "
   ]
  },
  {
   "cell_type": "code",
   "execution_count": 17,
   "metadata": {},
   "outputs": [],
   "source": [
    "sgd = SGD(lr=0.0, momentum=0.9, decay = 0.0, nesterov = False)\n",
    "model.compile(loss = 'binary_crossentropy',optimizer = sgd, metrics = ['accuracy'])"
   ]
  },
  {
   "cell_type": "code",
   "execution_count": 19,
   "metadata": {},
   "outputs": [],
   "source": [
    "lrate = LearningRateScheduler(step_decay)"
   ]
  },
  {
   "cell_type": "code",
   "execution_count": 20,
   "metadata": {},
   "outputs": [],
   "source": [
    "callbacks_list = [lrate]"
   ]
  },
  {
   "cell_type": "code",
   "execution_count": 23,
   "metadata": {},
   "outputs": [
    {
     "name": "stdout",
     "output_type": "stream",
     "text": [
      "Train on 235 samples, validate on 116 samples\n",
      "Epoch 1/50\n",
      " - 0s - loss: 0.0576 - accuracy: 0.9830 - val_loss: 0.0920 - val_accuracy: 0.9914\n",
      "Epoch 2/50\n",
      " - 0s - loss: 0.0643 - accuracy: 0.9787 - val_loss: 0.0673 - val_accuracy: 0.9914\n",
      "Epoch 3/50\n",
      " - 0s - loss: 0.0849 - accuracy: 0.9702 - val_loss: 0.0521 - val_accuracy: 0.9828\n",
      "Epoch 4/50\n",
      " - 0s - loss: 0.0832 - accuracy: 0.9702 - val_loss: 0.0524 - val_accuracy: 0.9828\n",
      "Epoch 5/50\n",
      " - 0s - loss: 0.0694 - accuracy: 0.9787 - val_loss: 0.1482 - val_accuracy: 0.9655\n",
      "Epoch 6/50\n",
      " - 0s - loss: 0.0597 - accuracy: 0.9830 - val_loss: 0.0619 - val_accuracy: 0.9914\n",
      "Epoch 7/50\n",
      " - 0s - loss: 0.0514 - accuracy: 0.9915 - val_loss: 0.0670 - val_accuracy: 0.9914\n",
      "Epoch 8/50\n",
      " - 0s - loss: 0.0448 - accuracy: 0.9957 - val_loss: 0.0790 - val_accuracy: 0.9828\n",
      "Epoch 9/50\n",
      " - 0s - loss: 0.0432 - accuracy: 0.9957 - val_loss: 0.0557 - val_accuracy: 0.9914\n",
      "Epoch 10/50\n",
      " - 0s - loss: 0.0413 - accuracy: 0.9915 - val_loss: 0.0642 - val_accuracy: 0.9914\n",
      "Epoch 11/50\n",
      " - 0s - loss: 0.0402 - accuracy: 0.9915 - val_loss: 0.0767 - val_accuracy: 0.9914\n",
      "Epoch 12/50\n",
      " - 0s - loss: 0.0377 - accuracy: 0.9915 - val_loss: 0.0595 - val_accuracy: 0.9914\n",
      "Epoch 13/50\n",
      " - 0s - loss: 0.0367 - accuracy: 0.9957 - val_loss: 0.0683 - val_accuracy: 0.9914\n",
      "Epoch 14/50\n",
      " - 0s - loss: 0.0347 - accuracy: 0.9957 - val_loss: 0.0659 - val_accuracy: 0.9914\n",
      "Epoch 15/50\n",
      " - 0s - loss: 0.0342 - accuracy: 0.9915 - val_loss: 0.0641 - val_accuracy: 0.9914\n",
      "Epoch 16/50\n",
      " - 0s - loss: 0.0334 - accuracy: 0.9957 - val_loss: 0.0629 - val_accuracy: 0.9914\n",
      "Epoch 17/50\n",
      " - 0s - loss: 0.0337 - accuracy: 0.9957 - val_loss: 0.0629 - val_accuracy: 0.9914\n",
      "Epoch 18/50\n",
      " - 0s - loss: 0.0325 - accuracy: 0.9915 - val_loss: 0.0649 - val_accuracy: 0.9914\n",
      "Epoch 19/50\n",
      " - 0s - loss: 0.0337 - accuracy: 0.9957 - val_loss: 0.0610 - val_accuracy: 0.9914\n",
      "Epoch 20/50\n",
      " - 0s - loss: 0.0326 - accuracy: 0.9915 - val_loss: 0.0803 - val_accuracy: 0.9828\n",
      "Epoch 21/50\n",
      " - 0s - loss: 0.0338 - accuracy: 0.9957 - val_loss: 0.0607 - val_accuracy: 0.9914\n",
      "Epoch 22/50\n",
      " - 0s - loss: 0.0315 - accuracy: 0.9957 - val_loss: 0.0654 - val_accuracy: 0.9914\n",
      "Epoch 23/50\n",
      " - 0s - loss: 0.0303 - accuracy: 0.9957 - val_loss: 0.0660 - val_accuracy: 0.9914\n",
      "Epoch 24/50\n",
      " - 0s - loss: 0.0304 - accuracy: 0.9957 - val_loss: 0.0638 - val_accuracy: 0.9914\n",
      "Epoch 25/50\n",
      " - 0s - loss: 0.0302 - accuracy: 0.9957 - val_loss: 0.0628 - val_accuracy: 0.9914\n",
      "Epoch 26/50\n",
      " - 0s - loss: 0.0297 - accuracy: 0.9957 - val_loss: 0.0673 - val_accuracy: 0.9914\n",
      "Epoch 27/50\n",
      " - 0s - loss: 0.0301 - accuracy: 0.9957 - val_loss: 0.0689 - val_accuracy: 0.9914\n",
      "Epoch 28/50\n",
      " - 0s - loss: 0.0301 - accuracy: 0.9957 - val_loss: 0.0626 - val_accuracy: 0.9914\n",
      "Epoch 29/50\n",
      " - 0s - loss: 0.0292 - accuracy: 0.9957 - val_loss: 0.0669 - val_accuracy: 0.9914\n",
      "Epoch 30/50\n",
      " - 0s - loss: 0.0291 - accuracy: 0.9957 - val_loss: 0.0687 - val_accuracy: 0.9914\n",
      "Epoch 31/50\n",
      " - 0s - loss: 0.0285 - accuracy: 0.9957 - val_loss: 0.0655 - val_accuracy: 0.9914\n",
      "Epoch 32/50\n",
      " - 0s - loss: 0.0285 - accuracy: 0.9957 - val_loss: 0.0631 - val_accuracy: 0.9914\n",
      "Epoch 33/50\n",
      " - 0s - loss: 0.0289 - accuracy: 0.9957 - val_loss: 0.0625 - val_accuracy: 0.9914\n",
      "Epoch 34/50\n",
      " - 0s - loss: 0.0283 - accuracy: 0.9957 - val_loss: 0.0649 - val_accuracy: 0.9914\n",
      "Epoch 35/50\n",
      " - 0s - loss: 0.0289 - accuracy: 0.9957 - val_loss: 0.0683 - val_accuracy: 0.9914\n",
      "Epoch 36/50\n",
      " - 0s - loss: 0.0282 - accuracy: 0.9957 - val_loss: 0.0640 - val_accuracy: 0.9914\n",
      "Epoch 37/50\n",
      " - 0s - loss: 0.0283 - accuracy: 0.9957 - val_loss: 0.0646 - val_accuracy: 0.9914\n",
      "Epoch 38/50\n",
      " - 0s - loss: 0.0282 - accuracy: 0.9957 - val_loss: 0.0640 - val_accuracy: 0.9914\n",
      "Epoch 39/50\n",
      " - 0s - loss: 0.0279 - accuracy: 0.9957 - val_loss: 0.0658 - val_accuracy: 0.9914\n",
      "Epoch 40/50\n",
      " - 0s - loss: 0.0277 - accuracy: 0.9957 - val_loss: 0.0664 - val_accuracy: 0.9914\n",
      "Epoch 41/50\n",
      " - 0s - loss: 0.0277 - accuracy: 0.9957 - val_loss: 0.0670 - val_accuracy: 0.9914\n",
      "Epoch 42/50\n",
      " - 0s - loss: 0.0277 - accuracy: 0.9957 - val_loss: 0.0665 - val_accuracy: 0.9914\n",
      "Epoch 43/50\n",
      " - 0s - loss: 0.0276 - accuracy: 0.9957 - val_loss: 0.0660 - val_accuracy: 0.9914\n",
      "Epoch 44/50\n",
      " - 0s - loss: 0.0278 - accuracy: 0.9957 - val_loss: 0.0645 - val_accuracy: 0.9914\n",
      "Epoch 45/50\n",
      " - 0s - loss: 0.0278 - accuracy: 0.9957 - val_loss: 0.0660 - val_accuracy: 0.9914\n",
      "Epoch 46/50\n",
      " - 0s - loss: 0.0276 - accuracy: 0.9957 - val_loss: 0.0648 - val_accuracy: 0.9914\n",
      "Epoch 47/50\n",
      " - 0s - loss: 0.0275 - accuracy: 0.9957 - val_loss: 0.0647 - val_accuracy: 0.9914\n",
      "Epoch 48/50\n",
      " - 0s - loss: 0.0274 - accuracy: 0.9957 - val_loss: 0.0649 - val_accuracy: 0.9914\n",
      "Epoch 49/50\n",
      " - 0s - loss: 0.0274 - accuracy: 0.9957 - val_loss: 0.0650 - val_accuracy: 0.9914\n",
      "Epoch 50/50\n",
      " - 0s - loss: 0.0274 - accuracy: 0.9957 - val_loss: 0.0665 - val_accuracy: 0.9914\n"
     ]
    },
    {
     "data": {
      "text/plain": [
       "<keras.callbacks.callbacks.History at 0x7f41604ab0f0>"
      ]
     },
     "execution_count": 23,
     "metadata": {},
     "output_type": "execute_result"
    }
   ],
   "source": [
    "model.fit(X,Y,validation_split=0.33,epochs=50,batch_size=28,callbacks=callbacks_list,verbose=2)"
   ]
  },
  {
   "cell_type": "code",
   "execution_count": null,
   "metadata": {},
   "outputs": [],
   "source": []
  }
 ],
 "metadata": {
  "kernelspec": {
   "display_name": "Python 3",
   "language": "python",
   "name": "python3"
  },
  "language_info": {
   "codemirror_mode": {
    "name": "ipython",
    "version": 3
   },
   "file_extension": ".py",
   "mimetype": "text/x-python",
   "name": "python",
   "nbconvert_exporter": "python",
   "pygments_lexer": "ipython3",
   "version": "3.6.8"
  }
 },
 "nbformat": 4,
 "nbformat_minor": 2
}
