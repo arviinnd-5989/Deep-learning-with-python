{
 "cells": [
  {
   "cell_type": "code",
   "execution_count": 1,
   "metadata": {},
   "outputs": [],
   "source": [
    "import numpy\n",
    "import matplotlib.pyplot as plt\n",
    "import pandas\n",
    "import math\n",
    "from keras.models import Sequential\n",
    "from keras.layers import Dense\n",
    "from keras.layers import LSTM\n",
    "from sklearn.preprocessing import MinMaxScaler\n",
    "from sklearn.metrics import mean_squared_error"
   ]
  },
  {
   "cell_type": "code",
   "execution_count": 2,
   "metadata": {},
   "outputs": [],
   "source": [
    "def create_dataset(dataset,look_back=1):\n",
    "    dataX, dataY = [],[]\n",
    "    for i in range(len(dataset)-look_back-1):\n",
    "        a = dataset[i:(i+look_back),0]\n",
    "        dataX.append(a)\n",
    "        dataY.append(dataset[i+look_back,0])\n",
    "    return numpy.array(dataX),numpy.array(dataY)"
   ]
  },
  {
   "cell_type": "code",
   "execution_count": 3,
   "metadata": {},
   "outputs": [],
   "source": [
    "numpy.random.seed(7)\n",
    "dataframe = pandas.read_csv(\"AirPassengers.csv\",usecols=[1],engine=\"python\")"
   ]
  },
  {
   "cell_type": "code",
   "execution_count": 4,
   "metadata": {},
   "outputs": [],
   "source": [
    "dataset = dataframe.values\n",
    "dataset = dataset.astype('float32')"
   ]
  },
  {
   "cell_type": "code",
   "execution_count": 5,
   "metadata": {},
   "outputs": [],
   "source": [
    "scaler = MinMaxScaler(feature_range=(0,1))\n",
    "dataset = scaler.fit_transform(dataset)"
   ]
  },
  {
   "cell_type": "code",
   "execution_count": 6,
   "metadata": {},
   "outputs": [],
   "source": [
    "train_size = int(len(dataset)*0.67)\n",
    "test_size = len(dataset)-train_size\n",
    "train,test = dataset[0:train_size,:],dataset[train_size:len(dataset),:]"
   ]
  },
  {
   "cell_type": "code",
   "execution_count": 10,
   "metadata": {},
   "outputs": [],
   "source": [
    "look_back = 1\n",
    "trainX,trainY = create_dataset(train,look_back)\n",
    "testX,testY = create_dataset(test,look_back)"
   ]
  },
  {
   "cell_type": "code",
   "execution_count": 26,
   "metadata": {},
   "outputs": [],
   "source": [
    "trainX = numpy.reshape(trainX,(trainX.shape[0],1,trainX.shape[1]))\n",
    "testX = numpy.reshape(testX,(testX.shape[0],1,testX.shape[1]))"
   ]
  },
  {
   "cell_type": "code",
   "execution_count": 43,
   "metadata": {},
   "outputs": [
    {
     "name": "stderr",
     "output_type": "stream",
     "text": [
      "/home/arvind/.local/lib/python3.6/site-packages/ipykernel_launcher.py:2: UserWarning: The `input_dim` and `input_length` arguments in recurrent layers are deprecated. Use `input_shape` instead.\n",
      "  \n",
      "/home/arvind/.local/lib/python3.6/site-packages/ipykernel_launcher.py:2: UserWarning: Update your `LSTM` call to the Keras 2 API: `LSTM(4, input_shape=(None, 1))`\n",
      "  \n",
      "W0426 19:32:05.645480 140039748347712 deprecation.py:506] From /home/arvind/.local/lib/python3.6/site-packages/tensorflow_core/python/ops/resource_variable_ops.py:1633: calling BaseResourceVariable.__init__ (from tensorflow.python.ops.resource_variable_ops) with constraint is deprecated and will be removed in a future version.\n",
      "Instructions for updating:\n",
      "If using Keras pass *_constraint arguments to layers.\n",
      "W0426 19:32:06.648608 140039748347712 deprecation.py:323] From /home/arvind/.local/lib/python3.6/site-packages/keras/optimizers.py:550: BaseResourceVariable.constraint (from tensorflow.python.ops.resource_variable_ops) is deprecated and will be removed in a future version.\n",
      "Instructions for updating:\n",
      "Apply a constraint manually following the optimizer update step.\n",
      "W0426 19:32:06.864027 140039748347712 module_wrapper.py:136] From /home/arvind/.local/lib/python3.6/site-packages/tensorflow_core/python/util/module_wrapper.py:163: The name tf.global_variables is deprecated. Please use tf.compat.v1.global_variables instead.\n",
      "\n"
     ]
    },
    {
     "name": "stdout",
     "output_type": "stream",
     "text": [
      "Epoch 1/100\n",
      " - 1s - loss: 0.0410\n",
      "Epoch 2/100\n",
      " - 0s - loss: 0.0197\n",
      "Epoch 3/100\n",
      " - 0s - loss: 0.0142\n",
      "Epoch 4/100\n",
      " - 0s - loss: 0.0127\n",
      "Epoch 5/100\n",
      " - 0s - loss: 0.0117\n",
      "Epoch 6/100\n",
      " - 0s - loss: 0.0106\n",
      "Epoch 7/100\n",
      " - 0s - loss: 0.0096\n",
      "Epoch 8/100\n",
      " - 0s - loss: 0.0087\n",
      "Epoch 9/100\n",
      " - 0s - loss: 0.0076\n",
      "Epoch 10/100\n",
      " - 0s - loss: 0.0065\n",
      "Epoch 11/100\n",
      " - 0s - loss: 0.0057\n",
      "Epoch 12/100\n",
      " - 0s - loss: 0.0048\n",
      "Epoch 13/100\n",
      " - 0s - loss: 0.0041\n",
      "Epoch 14/100\n",
      " - 0s - loss: 0.0035\n",
      "Epoch 15/100\n",
      " - 0s - loss: 0.0030\n",
      "Epoch 16/100\n",
      " - 0s - loss: 0.0027\n",
      "Epoch 17/100\n",
      " - 0s - loss: 0.0025\n",
      "Epoch 18/100\n",
      " - 0s - loss: 0.0023\n",
      "Epoch 19/100\n",
      " - 0s - loss: 0.0022\n",
      "Epoch 20/100\n",
      " - 0s - loss: 0.0021\n",
      "Epoch 21/100\n",
      " - 0s - loss: 0.0021\n",
      "Epoch 22/100\n",
      " - 0s - loss: 0.0021\n",
      "Epoch 23/100\n",
      " - 0s - loss: 0.0021\n",
      "Epoch 24/100\n",
      " - 0s - loss: 0.0020\n",
      "Epoch 25/100\n",
      " - 0s - loss: 0.0020\n",
      "Epoch 26/100\n",
      " - 0s - loss: 0.0021\n",
      "Epoch 27/100\n",
      " - 0s - loss: 0.0020\n",
      "Epoch 28/100\n",
      " - 0s - loss: 0.0020\n",
      "Epoch 29/100\n",
      " - 0s - loss: 0.0020\n",
      "Epoch 30/100\n",
      " - 0s - loss: 0.0021\n",
      "Epoch 31/100\n",
      " - 0s - loss: 0.0020\n",
      "Epoch 32/100\n",
      " - 0s - loss: 0.0020\n",
      "Epoch 33/100\n",
      " - 0s - loss: 0.0021\n",
      "Epoch 34/100\n",
      " - 0s - loss: 0.0021\n",
      "Epoch 35/100\n",
      " - 0s - loss: 0.0021\n",
      "Epoch 36/100\n",
      " - 0s - loss: 0.0020\n",
      "Epoch 37/100\n",
      " - 0s - loss: 0.0021\n",
      "Epoch 38/100\n",
      " - 0s - loss: 0.0020\n",
      "Epoch 39/100\n",
      " - 0s - loss: 0.0021\n",
      "Epoch 40/100\n",
      " - 0s - loss: 0.0020\n",
      "Epoch 41/100\n",
      " - 0s - loss: 0.0020\n",
      "Epoch 42/100\n",
      " - 0s - loss: 0.0020\n",
      "Epoch 43/100\n",
      " - 0s - loss: 0.0021\n",
      "Epoch 44/100\n",
      " - 0s - loss: 0.0020\n",
      "Epoch 45/100\n",
      " - 0s - loss: 0.0021\n",
      "Epoch 46/100\n",
      " - 0s - loss: 0.0020\n",
      "Epoch 47/100\n",
      " - 0s - loss: 0.0020\n",
      "Epoch 48/100\n",
      " - 0s - loss: 0.0020\n",
      "Epoch 49/100\n",
      " - 0s - loss: 0.0020\n",
      "Epoch 50/100\n",
      " - 0s - loss: 0.0020\n",
      "Epoch 51/100\n",
      " - 0s - loss: 0.0020\n",
      "Epoch 52/100\n",
      " - 0s - loss: 0.0020\n",
      "Epoch 53/100\n",
      " - 0s - loss: 0.0020\n",
      "Epoch 54/100\n",
      " - 0s - loss: 0.0020\n",
      "Epoch 55/100\n",
      " - 0s - loss: 0.0021\n",
      "Epoch 56/100\n",
      " - 0s - loss: 0.0020\n",
      "Epoch 57/100\n",
      " - 0s - loss: 0.0020\n",
      "Epoch 58/100\n",
      " - 0s - loss: 0.0020\n",
      "Epoch 59/100\n",
      " - 0s - loss: 0.0020\n",
      "Epoch 60/100\n",
      " - 0s - loss: 0.0020\n",
      "Epoch 61/100\n",
      " - 0s - loss: 0.0021\n",
      "Epoch 62/100\n",
      " - 0s - loss: 0.0020\n",
      "Epoch 63/100\n",
      " - 0s - loss: 0.0020\n",
      "Epoch 64/100\n",
      " - 0s - loss: 0.0020\n",
      "Epoch 65/100\n",
      " - 0s - loss: 0.0020\n",
      "Epoch 66/100\n",
      " - 0s - loss: 0.0020\n",
      "Epoch 67/100\n",
      " - 0s - loss: 0.0020\n",
      "Epoch 68/100\n",
      " - 0s - loss: 0.0021\n",
      "Epoch 69/100\n",
      " - 0s - loss: 0.0020\n",
      "Epoch 70/100\n",
      " - 0s - loss: 0.0021\n",
      "Epoch 71/100\n",
      " - 0s - loss: 0.0020\n",
      "Epoch 72/100\n",
      " - 0s - loss: 0.0020\n",
      "Epoch 73/100\n",
      " - 0s - loss: 0.0020\n",
      "Epoch 74/100\n",
      " - 0s - loss: 0.0021\n",
      "Epoch 75/100\n",
      " - 0s - loss: 0.0021\n",
      "Epoch 76/100\n",
      " - 0s - loss: 0.0020\n",
      "Epoch 77/100\n",
      " - 0s - loss: 0.0021\n",
      "Epoch 78/100\n",
      " - 0s - loss: 0.0019\n",
      "Epoch 79/100\n",
      " - 0s - loss: 0.0022\n",
      "Epoch 80/100\n",
      " - 0s - loss: 0.0020\n",
      "Epoch 81/100\n",
      " - 0s - loss: 0.0020\n",
      "Epoch 82/100\n",
      " - 0s - loss: 0.0020\n",
      "Epoch 83/100\n",
      " - 0s - loss: 0.0020\n",
      "Epoch 84/100\n",
      " - 0s - loss: 0.0020\n",
      "Epoch 85/100\n",
      " - 0s - loss: 0.0021\n",
      "Epoch 86/100\n",
      " - 0s - loss: 0.0021\n",
      "Epoch 87/100\n",
      " - 0s - loss: 0.0020\n",
      "Epoch 88/100\n",
      " - 0s - loss: 0.0020\n",
      "Epoch 89/100\n",
      " - 0s - loss: 0.0020\n",
      "Epoch 90/100\n",
      " - 0s - loss: 0.0020\n",
      "Epoch 91/100\n",
      " - 0s - loss: 0.0020\n",
      "Epoch 92/100\n",
      " - 0s - loss: 0.0020\n",
      "Epoch 93/100\n",
      " - 0s - loss: 0.0021\n",
      "Epoch 94/100\n",
      " - 0s - loss: 0.0021\n",
      "Epoch 95/100\n",
      " - 0s - loss: 0.0020\n",
      "Epoch 96/100\n",
      " - 0s - loss: 0.0020\n",
      "Epoch 97/100\n",
      " - 0s - loss: 0.0020\n",
      "Epoch 98/100\n",
      " - 0s - loss: 0.0020\n",
      "Epoch 99/100\n",
      " - 0s - loss: 0.0020\n",
      "Epoch 100/100\n",
      " - 0s - loss: 0.0020\n"
     ]
    },
    {
     "data": {
      "text/plain": [
       "<keras.callbacks.callbacks.History at 0x7f5d2c482518>"
      ]
     },
     "execution_count": 43,
     "metadata": {},
     "output_type": "execute_result"
    }
   ],
   "source": [
    "model = Sequential()\n",
    "model.add(LSTM(4,input_dim=look_back))\n",
    "model.add(Dense(1))\n",
    "model.compile(loss='mean_squared_error',optimizer='adam')\n",
    "model.fit(trainX,trainY,epochs=100,batch_size=1,verbose=2)"
   ]
  },
  {
   "cell_type": "code",
   "execution_count": 44,
   "metadata": {},
   "outputs": [],
   "source": [
    "trainPredict = model.predict(trainX)\n",
    "testPredict = model.predict(testX)"
   ]
  },
  {
   "cell_type": "code",
   "execution_count": 45,
   "metadata": {},
   "outputs": [],
   "source": [
    "trainPredict = scaler.inverse_transform(trainPredict)\n",
    "trainY = scaler.inverse_transform([trainY])\n",
    "testPredict = scaler.inverse_transform(testPredict)\n",
    "testY = scaler.inverse_transform([testY])"
   ]
  },
  {
   "cell_type": "code",
   "execution_count": 46,
   "metadata": {},
   "outputs": [
    {
     "name": "stdout",
     "output_type": "stream",
     "text": [
      "Train Score: 22.93 RMSE\n"
     ]
    }
   ],
   "source": [
    "trainScore = math.sqrt(mean_squared_error(trainY[0],trainPredict[:,0]))\n",
    "print(\"Train Score: %.2f RMSE\"%(trainScore))"
   ]
  },
  {
   "cell_type": "code",
   "execution_count": 47,
   "metadata": {},
   "outputs": [
    {
     "name": "stdout",
     "output_type": "stream",
     "text": [
      "Test Score: 47.60 RMSE\n"
     ]
    }
   ],
   "source": [
    "testScore = math.sqrt(mean_squared_error(testY[0],testPredict[:,0]))\n",
    "print(\"Test Score: %.2f RMSE\"%(testScore))"
   ]
  },
  {
   "cell_type": "code",
   "execution_count": 55,
   "metadata": {},
   "outputs": [],
   "source": [
    "trainPredictPlot = numpy.empty_like(dataset)\n",
    "trainPredictPlot[:,:] = numpy.nan\n",
    "trainPredictPlot[look_back:len(trainPredict)+look_back,:] = trainPredict"
   ]
  },
  {
   "cell_type": "code",
   "execution_count": 56,
   "metadata": {},
   "outputs": [],
   "source": [
    "testPredictPlot = numpy.empty_like(dataset)\n",
    "testPredictPlot[:,:] = numpy.nan\n",
    "testPredictPlot[len(trainPredict)+(look_back*2)+1:len(dataset)-1,:] = testPredict"
   ]
  },
  {
   "cell_type": "code",
   "execution_count": 57,
   "metadata": {},
   "outputs": [
    {
     "data": {
      "image/png": "[encoded data removed]",
      "text/plain": [
       "<Figure size 432x288 with 1 Axes>"
      ]
     },
     "metadata": {
      "needs_background": "light"
     },
     "output_type": "display_data"
    }
   ],
   "source": [
    "plt.plot(scaler.inverse_transform(dataset))\n",
    "plt.plot(trainPredictPlot)\n",
    "plt.plot(testPredictPlot)\n",
    "plt.show()"
   ]
  },
  {
   "cell_type": "code",
   "execution_count": 58,
   "metadata": {},
   "outputs": [],
   "source": [
    "#LSTM for regression using window method"
   ]
  },
  {
   "cell_type": "code",
   "execution_count": 59,
   "metadata": {},
   "outputs": [],
   "source": [
    "look_back = 3"
   ]
  },
  {
   "cell_type": "code",
   "execution_count": 60,
   "metadata": {},
   "outputs": [],
   "source": [
    "trainX, trainY = create_dataset(train,look_back)\n",
    "testX, testY = create_dataset(test,look_back)"
   ]
  },
  {
   "cell_type": "code",
   "execution_count": 62,
   "metadata": {},
   "outputs": [],
   "source": [
    "trainX = numpy.reshape(trainX,(trainX.shape[0],1,trainX.shape[1]))\n",
    "testX = numpy.reshape(testX,(testX.shape[0],1,testX.shape[1]))"
   ]
  },
  {
   "cell_type": "code",
   "execution_count": 64,
   "metadata": {},
   "outputs": [
    {
     "name": "stderr",
     "output_type": "stream",
     "text": [
      "/home/arvind/.local/lib/python3.6/site-packages/ipykernel_launcher.py:2: UserWarning: The `input_dim` and `input_length` arguments in recurrent layers are deprecated. Use `input_shape` instead.\n",
      "  \n",
      "/home/arvind/.local/lib/python3.6/site-packages/ipykernel_launcher.py:2: UserWarning: Update your `LSTM` call to the Keras 2 API: `LSTM(4, input_shape=(None, 3))`\n",
      "  \n"
     ]
    },
    {
     "name": "stdout",
     "output_type": "stream",
     "text": [
      "Epoch 1/100\n",
      " - 0s - loss: 0.0515\n",
      "Epoch 2/100\n",
      " - 0s - loss: 0.0242\n",
      "Epoch 3/100\n",
      " - 0s - loss: 0.0157\n",
      "Epoch 4/100\n",
      " - 0s - loss: 0.0134\n",
      "Epoch 5/100\n",
      " - 0s - loss: 0.0120\n",
      "Epoch 6/100\n",
      " - 0s - loss: 0.0106\n",
      "Epoch 7/100\n",
      " - 0s - loss: 0.0094\n",
      "Epoch 8/100\n",
      " - 0s - loss: 0.0082\n",
      "Epoch 9/100\n",
      " - 0s - loss: 0.0072\n",
      "Epoch 10/100\n",
      " - 0s - loss: 0.0063\n",
      "Epoch 11/100\n",
      " - 0s - loss: 0.0056\n",
      "Epoch 12/100\n",
      " - 0s - loss: 0.0050\n",
      "Epoch 13/100\n",
      " - 0s - loss: 0.0046\n",
      "Epoch 14/100\n",
      " - 0s - loss: 0.0043\n",
      "Epoch 15/100\n",
      " - 0s - loss: 0.0041\n",
      "Epoch 16/100\n",
      " - 0s - loss: 0.0039\n",
      "Epoch 17/100\n",
      " - 0s - loss: 0.0038\n",
      "Epoch 18/100\n",
      " - 0s - loss: 0.0038\n",
      "Epoch 19/100\n",
      " - 0s - loss: 0.0036\n",
      "Epoch 20/100\n",
      " - 0s - loss: 0.0036\n",
      "Epoch 21/100\n",
      " - 0s - loss: 0.0036\n",
      "Epoch 22/100\n",
      " - 0s - loss: 0.0035\n",
      "Epoch 23/100\n",
      " - 0s - loss: 0.0035\n",
      "Epoch 24/100\n",
      " - 0s - loss: 0.0036\n",
      "Epoch 25/100\n",
      " - 0s - loss: 0.0034\n",
      "Epoch 26/100\n",
      " - 0s - loss: 0.0034\n",
      "Epoch 27/100\n",
      " - 0s - loss: 0.0033\n",
      "Epoch 28/100\n",
      " - 0s - loss: 0.0033\n",
      "Epoch 29/100\n",
      " - 0s - loss: 0.0033\n",
      "Epoch 30/100\n",
      " - 0s - loss: 0.0034\n",
      "Epoch 31/100\n",
      " - 0s - loss: 0.0032\n",
      "Epoch 32/100\n",
      " - 0s - loss: 0.0033\n",
      "Epoch 33/100\n",
      " - 0s - loss: 0.0032\n",
      "Epoch 34/100\n",
      " - 0s - loss: 0.0031\n",
      "Epoch 35/100\n",
      " - 0s - loss: 0.0033\n",
      "Epoch 36/100\n",
      " - 0s - loss: 0.0031\n",
      "Epoch 37/100\n",
      " - 0s - loss: 0.0032\n",
      "Epoch 38/100\n",
      " - 0s - loss: 0.0030\n",
      "Epoch 39/100\n",
      " - 0s - loss: 0.0032\n",
      "Epoch 40/100\n",
      " - 0s - loss: 0.0030\n",
      "Epoch 41/100\n",
      " - 0s - loss: 0.0030\n",
      "Epoch 42/100\n",
      " - 0s - loss: 0.0029\n",
      "Epoch 43/100\n",
      " - 0s - loss: 0.0030\n",
      "Epoch 44/100\n",
      " - 0s - loss: 0.0029\n",
      "Epoch 45/100\n",
      " - 0s - loss: 0.0029\n",
      "Epoch 46/100\n",
      " - 0s - loss: 0.0028\n",
      "Epoch 47/100\n",
      " - 0s - loss: 0.0028\n",
      "Epoch 48/100\n",
      " - 0s - loss: 0.0028\n",
      "Epoch 49/100\n",
      " - 0s - loss: 0.0028\n",
      "Epoch 50/100\n",
      " - 0s - loss: 0.0027\n",
      "Epoch 51/100\n",
      " - 0s - loss: 0.0029\n",
      "Epoch 52/100\n",
      " - 0s - loss: 0.0027\n",
      "Epoch 53/100\n",
      " - 0s - loss: 0.0027\n",
      "Epoch 54/100\n",
      " - 0s - loss: 0.0026\n",
      "Epoch 55/100\n",
      " - 0s - loss: 0.0027\n",
      "Epoch 56/100\n",
      " - 0s - loss: 0.0026\n",
      "Epoch 57/100\n",
      " - 0s - loss: 0.0025\n",
      "Epoch 58/100\n",
      " - 0s - loss: 0.0026\n",
      "Epoch 59/100\n",
      " - 0s - loss: 0.0026\n",
      "Epoch 60/100\n",
      " - 0s - loss: 0.0026\n",
      "Epoch 61/100\n",
      " - 0s - loss: 0.0025\n",
      "Epoch 62/100\n",
      " - 0s - loss: 0.0025\n",
      "Epoch 63/100\n",
      " - 0s - loss: 0.0025\n",
      "Epoch 64/100\n",
      " - 0s - loss: 0.0025\n",
      "Epoch 65/100\n",
      " - 0s - loss: 0.0025\n",
      "Epoch 66/100\n",
      " - 0s - loss: 0.0024\n",
      "Epoch 67/100\n",
      " - 0s - loss: 0.0026\n",
      "Epoch 68/100\n",
      " - 0s - loss: 0.0024\n",
      "Epoch 69/100\n",
      " - 0s - loss: 0.0024\n",
      "Epoch 70/100\n",
      " - 0s - loss: 0.0025\n",
      "Epoch 71/100\n",
      " - 0s - loss: 0.0023\n",
      "Epoch 72/100\n",
      " - 0s - loss: 0.0024\n",
      "Epoch 73/100\n",
      " - 0s - loss: 0.0024\n",
      "Epoch 74/100\n",
      " - 0s - loss: 0.0023\n",
      "Epoch 75/100\n",
      " - 0s - loss: 0.0023\n",
      "Epoch 76/100\n",
      " - 0s - loss: 0.0023\n",
      "Epoch 77/100\n",
      " - 0s - loss: 0.0023\n",
      "Epoch 78/100\n",
      " - 0s - loss: 0.0023\n",
      "Epoch 79/100\n",
      " - 0s - loss: 0.0023\n",
      "Epoch 80/100\n",
      " - 0s - loss: 0.0023\n",
      "Epoch 81/100\n",
      " - 0s - loss: 0.0023\n",
      "Epoch 82/100\n",
      " - 0s - loss: 0.0023\n",
      "Epoch 83/100\n",
      " - 0s - loss: 0.0022\n",
      "Epoch 84/100\n",
      " - 0s - loss: 0.0023\n",
      "Epoch 85/100\n",
      " - 0s - loss: 0.0022\n",
      "Epoch 86/100\n",
      " - 0s - loss: 0.0022\n",
      "Epoch 87/100\n",
      " - 0s - loss: 0.0022\n",
      "Epoch 88/100\n",
      " - 0s - loss: 0.0022\n",
      "Epoch 89/100\n",
      " - 0s - loss: 0.0021\n",
      "Epoch 90/100\n",
      " - 0s - loss: 0.0021\n",
      "Epoch 91/100\n",
      " - 0s - loss: 0.0021\n",
      "Epoch 92/100\n",
      " - 0s - loss: 0.0021\n",
      "Epoch 93/100\n",
      " - 0s - loss: 0.0021\n",
      "Epoch 94/100\n",
      " - 0s - loss: 0.0022\n",
      "Epoch 95/100\n",
      " - 0s - loss: 0.0021\n",
      "Epoch 96/100\n",
      " - 0s - loss: 0.0021\n",
      "Epoch 97/100\n",
      " - 0s - loss: 0.0021\n",
      "Epoch 98/100\n",
      " - 0s - loss: 0.0020\n",
      "Epoch 99/100\n",
      " - 0s - loss: 0.0021\n",
      "Epoch 100/100\n",
      " - 0s - loss: 0.0021\n"
     ]
    },
    {
     "data": {
      "text/plain": [
       "<keras.callbacks.callbacks.History at 0x7f5d240dd828>"
      ]
     },
     "execution_count": 64,
     "metadata": {},
     "output_type": "execute_result"
    }
   ],
   "source": [
    "model = Sequential()\n",
    "model.add(LSTM(4,input_dim=look_back))\n",
    "model.add(Dense(1))\n",
    "model.compile(loss = \"mean_squared_error\",optimizer=\"adam\")\n",
    "model.fit(trainX,trainY,epochs=100,batch_size=1,verbose=2)"
   ]
  },
  {
   "cell_type": "code",
   "execution_count": 65,
   "metadata": {},
   "outputs": [],
   "source": [
    "trainPredict = model.predict(trainX)\n",
    "testPredict = model.predict(testX)"
   ]
  },
  {
   "cell_type": "code",
   "execution_count": 66,
   "metadata": {},
   "outputs": [],
   "source": [
    "trainPredict = scaler.inverse_transform(trainPredict)\n",
    "trainY = scaler.inverse_transform([trainY])\n",
    "testPredict = scaler.inverse_transform(testPredict)\n",
    "testY = scaler.inverse_transform([testY])"
   ]
  },
  {
   "cell_type": "code",
   "execution_count": 67,
   "metadata": {},
   "outputs": [],
   "source": [
    "trainScore = math.sqrt(mean_squared_error(trainY[0],trainPredict[:,0]))"
   ]
  },
  {
   "cell_type": "code",
   "execution_count": 68,
   "metadata": {},
   "outputs": [
    {
     "name": "stdout",
     "output_type": "stream",
     "text": [
      "Train Score: 23.67 RMSE\n"
     ]
    }
   ],
   "source": [
    "print(\"Train Score: %.2f RMSE\"%(trainScore))"
   ]
  },
  {
   "cell_type": "code",
   "execution_count": 69,
   "metadata": {},
   "outputs": [],
   "source": [
    "trainPredictPlot = numpy.empty_like(dataset)\n",
    "trainPredictPlot[:,:] = numpy.nan\n",
    "trainPredictPlot[look_back:len(trainPredict)+look_back,:]=trainPredict"
   ]
  },
  {
   "cell_type": "code",
   "execution_count": 70,
   "metadata": {},
   "outputs": [],
   "source": [
    "testPredictPlot = numpy.empty_like(dataset)\n",
    "testPredictPlot[:,:] = numpy.nan\n",
    "testPredictPlot[len(trainPredict)+look_back*2+1:len(dataset)-1,:]=testPredict"
   ]
  },
  {
   "cell_type": "code",
   "execution_count": 71,
   "metadata": {},
   "outputs": [
    {
     "data": {
      "image/png": "[encoded data removed]",
      "text/plain": [
       "<Figure size 432x288 with 1 Axes>"
      ]
     },
     "metadata": {
      "needs_background": "light"
     },
     "output_type": "display_data"
    }
   ],
   "source": [
    "plt.plot(scaler.inverse_transform(dataset))\n",
    "plt.plot(trainPredictPlot)\n",
    "plt.plot(testPredictPlot)\n",
    "plt.show()"
   ]
  },
  {
   "cell_type": "code",
   "execution_count": 72,
   "metadata": {},
   "outputs": [],
   "source": [
    "# LSTM for regression with time steps"
   ]
  },
  {
   "cell_type": "code",
   "execution_count": 73,
   "metadata": {},
   "outputs": [],
   "source": [
    "trainX, trainY = create_dataset(train,look_back)\n",
    "testX, testY = create_dataset(test,look_back)"
   ]
  },
  {
   "cell_type": "code",
   "execution_count": 75,
   "metadata": {},
   "outputs": [],
   "source": [
    "trainX = numpy.reshape(trainX,(trainX.shape[0],trainX.shape[1],1))\n",
    "testX = numpy.reshape(testX,(testX.shape[0],testX.shape[1],1))"
   ]
  },
  {
   "cell_type": "code",
   "execution_count": 83,
   "metadata": {
    "scrolled": true
   },
   "outputs": [
    {
     "name": "stderr",
     "output_type": "stream",
     "text": [
      "/home/arvind/.local/lib/python3.6/site-packages/ipykernel_launcher.py:2: UserWarning: The `input_dim` and `input_length` arguments in recurrent layers are deprecated. Use `input_shape` instead.\n",
      "  \n",
      "/home/arvind/.local/lib/python3.6/site-packages/ipykernel_launcher.py:2: UserWarning: Update your `LSTM` call to the Keras 2 API: `LSTM(4, input_shape=(None, 1))`\n",
      "  \n"
     ]
    },
    {
     "name": "stdout",
     "output_type": "stream",
     "text": [
      "Epoch 1/100\n",
      " - 1s - loss: 0.0450\n",
      "Epoch 2/100\n",
      " - 0s - loss: 0.0176\n",
      "Epoch 3/100\n",
      " - 0s - loss: 0.0129\n",
      "Epoch 4/100\n",
      " - 0s - loss: 0.0112\n",
      "Epoch 5/100\n",
      " - 0s - loss: 0.0096\n",
      "Epoch 6/100\n",
      " - 0s - loss: 0.0081\n",
      "Epoch 7/100\n",
      " - 0s - loss: 0.0069\n",
      "Epoch 8/100\n",
      " - 0s - loss: 0.0060\n",
      "Epoch 9/100\n",
      " - 0s - loss: 0.0051\n",
      "Epoch 10/100\n",
      " - 0s - loss: 0.0047\n",
      "Epoch 11/100\n",
      " - 0s - loss: 0.0045\n",
      "Epoch 12/100\n",
      " - 0s - loss: 0.0041\n",
      "Epoch 13/100\n",
      " - 0s - loss: 0.0040\n",
      "Epoch 14/100\n",
      " - 0s - loss: 0.0040\n",
      "Epoch 15/100\n",
      " - 0s - loss: 0.0039\n",
      "Epoch 16/100\n",
      " - 0s - loss: 0.0039\n",
      "Epoch 17/100\n",
      " - 0s - loss: 0.0038\n",
      "Epoch 18/100\n",
      " - 0s - loss: 0.0038\n",
      "Epoch 19/100\n",
      " - 0s - loss: 0.0039\n",
      "Epoch 20/100\n",
      " - 0s - loss: 0.0038\n",
      "Epoch 21/100\n",
      " - 0s - loss: 0.0038\n",
      "Epoch 22/100\n",
      " - 0s - loss: 0.0039\n",
      "Epoch 23/100\n",
      " - 0s - loss: 0.0038\n",
      "Epoch 24/100\n",
      " - 0s - loss: 0.0037\n",
      "Epoch 25/100\n",
      " - 0s - loss: 0.0037\n",
      "Epoch 26/100\n",
      " - 0s - loss: 0.0038\n",
      "Epoch 27/100\n",
      " - 0s - loss: 0.0037\n",
      "Epoch 28/100\n",
      " - 0s - loss: 0.0037\n",
      "Epoch 29/100\n",
      " - 0s - loss: 0.0037\n",
      "Epoch 30/100\n",
      " - 0s - loss: 0.0036\n",
      "Epoch 31/100\n",
      " - 0s - loss: 0.0036\n",
      "Epoch 32/100\n",
      " - 0s - loss: 0.0036\n",
      "Epoch 33/100\n",
      " - 0s - loss: 0.0036\n",
      "Epoch 34/100\n",
      " - 0s - loss: 0.0035\n",
      "Epoch 35/100\n",
      " - 0s - loss: 0.0036\n",
      "Epoch 36/100\n",
      " - 0s - loss: 0.0036\n",
      "Epoch 37/100\n",
      " - 0s - loss: 0.0036\n",
      "Epoch 38/100\n",
      " - 0s - loss: 0.0035\n",
      "Epoch 39/100\n",
      " - 0s - loss: 0.0036\n",
      "Epoch 40/100\n",
      " - 0s - loss: 0.0035\n",
      "Epoch 41/100\n",
      " - 0s - loss: 0.0035\n",
      "Epoch 42/100\n",
      " - 0s - loss: 0.0034\n",
      "Epoch 43/100\n",
      " - 0s - loss: 0.0036\n",
      "Epoch 44/100\n",
      " - 0s - loss: 0.0035\n",
      "Epoch 45/100\n",
      " - 0s - loss: 0.0034\n",
      "Epoch 46/100\n",
      " - 0s - loss: 0.0034\n",
      "Epoch 47/100\n",
      " - 0s - loss: 0.0034\n",
      "Epoch 48/100\n",
      " - 0s - loss: 0.0034\n",
      "Epoch 49/100\n",
      " - 0s - loss: 0.0035\n",
      "Epoch 50/100\n",
      " - 0s - loss: 0.0034\n",
      "Epoch 51/100\n",
      " - 0s - loss: 0.0034\n",
      "Epoch 52/100\n",
      " - 0s - loss: 0.0033\n",
      "Epoch 53/100\n",
      " - 0s - loss: 0.0035\n",
      "Epoch 54/100\n",
      " - 0s - loss: 0.0033\n",
      "Epoch 55/100\n",
      " - 0s - loss: 0.0033\n",
      "Epoch 56/100\n",
      " - 0s - loss: 0.0034\n",
      "Epoch 57/100\n",
      " - 0s - loss: 0.0033\n",
      "Epoch 58/100\n",
      " - 0s - loss: 0.0033\n",
      "Epoch 59/100\n",
      " - 0s - loss: 0.0033\n",
      "Epoch 60/100\n",
      " - 0s - loss: 0.0032\n",
      "Epoch 61/100\n",
      " - 0s - loss: 0.0032\n",
      "Epoch 62/100\n",
      " - 0s - loss: 0.0033\n",
      "Epoch 63/100\n",
      " - 0s - loss: 0.0033\n",
      "Epoch 64/100\n",
      " - 0s - loss: 0.0031\n",
      "Epoch 65/100\n",
      " - 0s - loss: 0.0033\n",
      "Epoch 66/100\n",
      " - 0s - loss: 0.0031\n",
      "Epoch 67/100\n",
      " - 0s - loss: 0.0031\n",
      "Epoch 68/100\n",
      " - 0s - loss: 0.0032\n",
      "Epoch 69/100\n",
      " - 0s - loss: 0.0031\n",
      "Epoch 70/100\n",
      " - 0s - loss: 0.0031\n",
      "Epoch 71/100\n",
      " - 0s - loss: 0.0032\n",
      "Epoch 72/100\n",
      " - 0s - loss: 0.0032\n",
      "Epoch 73/100\n",
      " - 0s - loss: 0.0031\n",
      "Epoch 74/100\n",
      " - 0s - loss: 0.0030\n",
      "Epoch 75/100\n",
      " - 0s - loss: 0.0031\n",
      "Epoch 76/100\n",
      " - 0s - loss: 0.0031\n",
      "Epoch 77/100\n",
      " - 0s - loss: 0.0030\n",
      "Epoch 78/100\n",
      " - 0s - loss: 0.0030\n",
      "Epoch 79/100\n",
      " - 0s - loss: 0.0029\n",
      "Epoch 80/100\n",
      " - 0s - loss: 0.0029\n",
      "Epoch 81/100\n",
      " - 0s - loss: 0.0030\n",
      "Epoch 82/100\n",
      " - 0s - loss: 0.0029\n",
      "Epoch 83/100\n",
      " - 0s - loss: 0.0029\n",
      "Epoch 84/100\n",
      " - 0s - loss: 0.0029\n",
      "Epoch 85/100\n",
      " - 0s - loss: 0.0030\n",
      "Epoch 86/100\n",
      " - 0s - loss: 0.0029\n",
      "Epoch 87/100\n",
      " - 0s - loss: 0.0029\n",
      "Epoch 88/100\n",
      " - 0s - loss: 0.0029\n",
      "Epoch 89/100\n",
      " - 0s - loss: 0.0027\n",
      "Epoch 90/100\n",
      " - 0s - loss: 0.0027\n",
      "Epoch 91/100\n",
      " - 0s - loss: 0.0029\n",
      "Epoch 92/100\n",
      " - 0s - loss: 0.0028\n",
      "Epoch 93/100\n",
      " - 0s - loss: 0.0027\n",
      "Epoch 94/100\n",
      " - 0s - loss: 0.0027\n",
      "Epoch 95/100\n",
      " - 0s - loss: 0.0026\n",
      "Epoch 96/100\n",
      " - 0s - loss: 0.0027\n",
      "Epoch 97/100\n",
      " - 0s - loss: 0.0028\n",
      "Epoch 98/100\n",
      " - 0s - loss: 0.0026\n",
      "Epoch 99/100\n",
      " - 0s - loss: 0.0026\n",
      "Epoch 100/100\n",
      " - 0s - loss: 0.0026\n"
     ]
    },
    {
     "data": {
      "text/plain": [
       "<keras.callbacks.callbacks.History at 0x7f5d14ee4e48>"
      ]
     },
     "execution_count": 83,
     "metadata": {},
     "output_type": "execute_result"
    }
   ],
   "source": [
    "model = Sequential()\n",
    "model.add(LSTM(4,input_dim=1))\n",
    "model.add(Dense(1))\n",
    "model.compile(loss=\"mean_squared_error\",optimizer=\"adam\")\n",
    "model.fit(trainX,trainY,epochs=100,batch_size=1,verbose=2)"
   ]
  },
  {
   "cell_type": "code",
   "execution_count": 84,
   "metadata": {},
   "outputs": [],
   "source": [
    "trainPredict = model.predict(trainX)\n",
    "testPredict = model.predict(testX)"
   ]
  },
  {
   "cell_type": "code",
   "execution_count": 85,
   "metadata": {},
   "outputs": [],
   "source": [
    "trainPredict = scaler.inverse_transform(trainPredict)\n",
    "trainY = scaler.inverse_transform([trainY])\n",
    "testPredict = scaler.inverse_transform(testPredict)\n",
    "testY = scaler.inverse_transform([testY])"
   ]
  },
  {
   "cell_type": "code",
   "execution_count": 86,
   "metadata": {},
   "outputs": [
    {
     "name": "stdout",
     "output_type": "stream",
     "text": [
      "Train Score: 28.03 RMSE\n"
     ]
    }
   ],
   "source": [
    "trainScore = math.sqrt(mean_squared_error(trainY[0],trainPredict[:,0]))\n",
    "print(\"Train Score: %.2f RMSE\" %(trainScore))"
   ]
  },
  {
   "cell_type": "code",
   "execution_count": 87,
   "metadata": {},
   "outputs": [
    {
     "name": "stdout",
     "output_type": "stream",
     "text": [
      "Test Score: 71.28 RMSE\n"
     ]
    }
   ],
   "source": [
    "testScore = math.sqrt(mean_squared_error(testY[0],testPredict[:,0]))\n",
    "print(\"Test Score: %.2f RMSE\" %(testScore))"
   ]
  },
  {
   "cell_type": "code",
   "execution_count": 89,
   "metadata": {},
   "outputs": [],
   "source": [
    "trainPredictPlot = numpy.empty_like(dataset)\n",
    "trainPredictPlot[:,:] = numpy.nan\n",
    "trainPredictPlot[look_back:len(trainPredict)+look_back,:] = trainPredict"
   ]
  },
  {
   "cell_type": "code",
   "execution_count": 90,
   "metadata": {},
   "outputs": [],
   "source": [
    "testPredictPlot = numpy.empty_like(dataset)\n",
    "testPredictPlot[:,:] = numpy.nan\n",
    "testPredictPlot[len(trainPredict)+(look_back*2)+1:len(dataset)-1,:] = testPredict"
   ]
  },
  {
   "cell_type": "code",
   "execution_count": 91,
   "metadata": {},
   "outputs": [
    {
     "data": {
      "image/png": "[encoded data removed]",
      "text/plain": [
       "<Figure size 432x288 with 1 Axes>"
      ]
     },
     "metadata": {
      "needs_background": "light"
     },
     "output_type": "display_data"
    }
   ],
   "source": [
    "plt.plot(scaler.inverse_transform(dataset))\n",
    "plt.plot(trainPredictPlot)\n",
    "plt.plot(testPredictPlot)\n",
    "plt.show()"
   ]
  },
  {
   "cell_type": "code",
   "execution_count": 92,
   "metadata": {},
   "outputs": [],
   "source": [
    "# LSTM with memory between batches"
   ]
  },
  {
   "cell_type": "code",
   "execution_count": 93,
   "metadata": {},
   "outputs": [],
   "source": [
    "import numpy\n",
    "import matplotlib.pyplot as plt\n",
    "import pandas\n",
    "import math\n",
    "from keras.models import Sequential\n",
    "from keras.layers import Dense\n",
    "from keras.layers import LSTM\n",
    "from sklearn.preprocessing import MinMaxScaler\n",
    "from sklearn.metrics import mean_squared_error"
   ]
  },
  {
   "cell_type": "code",
   "execution_count": 100,
   "metadata": {},
   "outputs": [],
   "source": [
    "def create_dataset(dataset,look_back=1):\n",
    "    dataX, dataY = [], []\n",
    "    for i in range(len(dataset)-look_back-1):\n",
    "        a = dataset[i:(i+look_back),0]\n",
    "        dataX.append(a)\n",
    "        dataY.append(dataset[i+look_back,0])\n",
    "    return numpy.array(dataX), numpy.array(dataY)"
   ]
  },
  {
   "cell_type": "code",
   "execution_count": 101,
   "metadata": {},
   "outputs": [],
   "source": [
    "numpy.random.seed(7)"
   ]
  },
  {
   "cell_type": "code",
   "execution_count": 102,
   "metadata": {},
   "outputs": [],
   "source": [
    "dataframe = pandas.read_csv('AirPassengers.csv',usecols=[1],engine=\"python\")\n",
    "dataset = dataframe.values\n",
    "dataset = dataset.astype('float32')"
   ]
  },
  {
   "cell_type": "code",
   "execution_count": 103,
   "metadata": {},
   "outputs": [],
   "source": [
    "scaler = MinMaxScaler(feature_range=(0,1))\n",
    "dataset = scaler.fit_transform(dataset)"
   ]
  },
  {
   "cell_type": "code",
   "execution_count": 104,
   "metadata": {},
   "outputs": [],
   "source": [
    "train_size = int(len(dataset)*0.67)\n",
    "test_size = len(dataset) - train_size\n",
    "train, test = dataset[0:train_size,:], dataset[train_size:len(dataset),:]"
   ]
  },
  {
   "cell_type": "code",
   "execution_count": 105,
   "metadata": {},
   "outputs": [],
   "source": [
    "look_back=3\n",
    "trainX,trainY = create_dataset(train, look_back)\n",
    "testX, testY = create_dataset(test, look_back)"
   ]
  },
  {
   "cell_type": "code",
   "execution_count": 106,
   "metadata": {},
   "outputs": [],
   "source": [
    "trainX = numpy.reshape(trainX,(trainX.shape[0], trainX.shape[1],1))\n",
    "testX = numpy.reshape(testX,(testX.shape[0],testX.shape[1],1))"
   ]
  },
  {
   "cell_type": "code",
   "execution_count": 107,
   "metadata": {},
   "outputs": [],
   "source": [
    "batch_size=1\n",
    "model = Sequential()\n",
    "model.add(LSTM(4,batch_input_shape=(batch_size,look_back,1),stateful = True))\n",
    "model.add(Dense(1))\n",
    "model.compile(loss=\"mean_squared_error\",optimizer=\"adam\")"
   ]
  },
  {
   "cell_type": "code",
   "execution_count": 108,
   "metadata": {},
   "outputs": [
    {
     "name": "stdout",
     "output_type": "stream",
     "text": [
      "Epoch 1/1\n",
      " - 0s - loss: 0.0046\n",
      "Epoch 1/1\n",
      " - 0s - loss: 0.0078\n",
      "Epoch 1/1\n",
      " - 0s - loss: 0.0052\n",
      "Epoch 1/1\n",
      " - 0s - loss: 0.0047\n",
      "Epoch 1/1\n",
      " - 0s - loss: 0.0048\n",
      "Epoch 1/1\n",
      " - 0s - loss: 0.0048\n",
      "Epoch 1/1\n",
      " - 0s - loss: 0.0047\n",
      "Epoch 1/1\n",
      " - 0s - loss: 0.0046\n",
      "Epoch 1/1\n",
      " - 0s - loss: 0.0045\n",
      "Epoch 1/1\n",
      " - 0s - loss: 0.0044\n",
      "Epoch 1/1\n",
      " - 0s - loss: 0.0044\n",
      "Epoch 1/1\n",
      " - 0s - loss: 0.0043\n",
      "Epoch 1/1\n",
      " - 0s - loss: 0.0042\n",
      "Epoch 1/1\n",
      " - 0s - loss: 0.0042\n",
      "Epoch 1/1\n",
      " - 0s - loss: 0.0041\n",
      "Epoch 1/1\n",
      " - 0s - loss: 0.0041\n",
      "Epoch 1/1\n",
      " - 0s - loss: 0.0041\n",
      "Epoch 1/1\n",
      " - 0s - loss: 0.0040\n",
      "Epoch 1/1\n",
      " - 0s - loss: 0.0040\n",
      "Epoch 1/1\n",
      " - 0s - loss: 0.0039\n",
      "Epoch 1/1\n",
      " - 0s - loss: 0.0039\n",
      "Epoch 1/1\n",
      " - 0s - loss: 0.0038\n",
      "Epoch 1/1\n",
      " - 0s - loss: 0.0038\n",
      "Epoch 1/1\n",
      " - 0s - loss: 0.0037\n",
      "Epoch 1/1\n",
      " - 0s - loss: 0.0036\n",
      "Epoch 1/1\n",
      " - 0s - loss: 0.0036\n",
      "Epoch 1/1\n",
      " - 0s - loss: 0.0035\n",
      "Epoch 1/1\n",
      " - 0s - loss: 0.0035\n",
      "Epoch 1/1\n",
      " - 0s - loss: 0.0034\n",
      "Epoch 1/1\n",
      " - 0s - loss: 0.0033\n",
      "Epoch 1/1\n",
      " - 0s - loss: 0.0033\n",
      "Epoch 1/1\n",
      " - 0s - loss: 0.0032\n",
      "Epoch 1/1\n",
      " - 0s - loss: 0.0032\n",
      "Epoch 1/1\n",
      " - 0s - loss: 0.0031\n",
      "Epoch 1/1\n",
      " - 0s - loss: 0.0030\n",
      "Epoch 1/1\n",
      " - 0s - loss: 0.0030\n",
      "Epoch 1/1\n",
      " - 0s - loss: 0.0029\n",
      "Epoch 1/1\n",
      " - 0s - loss: 0.0029\n",
      "Epoch 1/1\n",
      " - 0s - loss: 0.0028\n",
      "Epoch 1/1\n",
      " - 0s - loss: 0.0028\n",
      "Epoch 1/1\n",
      " - 0s - loss: 0.0027\n",
      "Epoch 1/1\n",
      " - 0s - loss: 0.0027\n",
      "Epoch 1/1\n",
      " - 0s - loss: 0.0026\n",
      "Epoch 1/1\n",
      " - 0s - loss: 0.0026\n",
      "Epoch 1/1\n",
      " - 0s - loss: 0.0025\n",
      "Epoch 1/1\n",
      " - 0s - loss: 0.0025\n",
      "Epoch 1/1\n",
      " - 0s - loss: 0.0024\n",
      "Epoch 1/1\n",
      " - 0s - loss: 0.0024\n",
      "Epoch 1/1\n",
      " - 0s - loss: 0.0023\n",
      "Epoch 1/1\n",
      " - 0s - loss: 0.0023\n",
      "Epoch 1/1\n",
      " - 0s - loss: 0.0023\n",
      "Epoch 1/1\n",
      " - 0s - loss: 0.0022\n",
      "Epoch 1/1\n",
      " - 0s - loss: 0.0022\n",
      "Epoch 1/1\n",
      " - 0s - loss: 0.0021\n",
      "Epoch 1/1\n",
      " - 0s - loss: 0.0021\n",
      "Epoch 1/1\n",
      " - 0s - loss: 0.0021\n",
      "Epoch 1/1\n",
      " - 0s - loss: 0.0020\n",
      "Epoch 1/1\n",
      " - 0s - loss: 0.0020\n",
      "Epoch 1/1\n",
      " - 0s - loss: 0.0020\n",
      "Epoch 1/1\n",
      " - 0s - loss: 0.0020\n",
      "Epoch 1/1\n",
      " - 0s - loss: 0.0019\n",
      "Epoch 1/1\n",
      " - 0s - loss: 0.0019\n",
      "Epoch 1/1\n",
      " - 0s - loss: 0.0019\n",
      "Epoch 1/1\n",
      " - 0s - loss: 0.0019\n",
      "Epoch 1/1\n",
      " - 0s - loss: 0.0019\n",
      "Epoch 1/1\n",
      " - 0s - loss: 0.0018\n",
      "Epoch 1/1\n",
      " - 0s - loss: 0.0018\n",
      "Epoch 1/1\n",
      " - 0s - loss: 0.0018\n",
      "Epoch 1/1\n",
      " - 0s - loss: 0.0018\n",
      "Epoch 1/1\n",
      " - 0s - loss: 0.0018\n",
      "Epoch 1/1\n",
      " - 0s - loss: 0.0018\n",
      "Epoch 1/1\n",
      " - 0s - loss: 0.0018\n",
      "Epoch 1/1\n",
      " - 0s - loss: 0.0018\n",
      "Epoch 1/1\n",
      " - 0s - loss: 0.0017\n",
      "Epoch 1/1\n",
      " - 0s - loss: 0.0017\n",
      "Epoch 1/1\n",
      " - 0s - loss: 0.0017\n",
      "Epoch 1/1\n",
      " - 0s - loss: 0.0017\n",
      "Epoch 1/1\n",
      " - 0s - loss: 0.0017\n",
      "Epoch 1/1\n",
      " - 0s - loss: 0.0017\n",
      "Epoch 1/1\n",
      " - 0s - loss: 0.0017\n",
      "Epoch 1/1\n",
      " - 0s - loss: 0.0017\n",
      "Epoch 1/1\n",
      " - 0s - loss: 0.0017\n",
      "Epoch 1/1\n",
      " - 0s - loss: 0.0017\n",
      "Epoch 1/1\n",
      " - 0s - loss: 0.0017\n",
      "Epoch 1/1\n",
      " - 0s - loss: 0.0017\n",
      "Epoch 1/1\n",
      " - 0s - loss: 0.0017\n",
      "Epoch 1/1\n",
      " - 0s - loss: 0.0017\n",
      "Epoch 1/1\n",
      " - 0s - loss: 0.0017\n",
      "Epoch 1/1\n",
      " - 0s - loss: 0.0017\n",
      "Epoch 1/1\n",
      " - 0s - loss: 0.0017\n",
      "Epoch 1/1\n",
      " - 0s - loss: 0.0017\n",
      "Epoch 1/1\n",
      " - 0s - loss: 0.0017\n",
      "Epoch 1/1\n",
      " - 0s - loss: 0.0016\n",
      "Epoch 1/1\n",
      " - 0s - loss: 0.0016\n",
      "Epoch 1/1\n",
      " - 0s - loss: 0.0016\n",
      "Epoch 1/1\n",
      " - 0s - loss: 0.0016\n",
      "Epoch 1/1\n",
      " - 0s - loss: 0.0016\n",
      "Epoch 1/1\n",
      " - 0s - loss: 0.0016\n",
      "Epoch 1/1\n",
      " - 0s - loss: 0.0016\n",
      "Epoch 1/1\n",
      " - 0s - loss: 0.0016\n"
     ]
    }
   ],
   "source": [
    "for i in range(100):\n",
    "    model.fit(trainX,trainY,epochs=1,batch_size=batch_size,verbose=2,shuffle = False)\n",
    "    model.reset_states()"
   ]
  },
  {
   "cell_type": "code",
   "execution_count": 109,
   "metadata": {},
   "outputs": [],
   "source": [
    "trainPredict = model.predict(trainX,batch_size=batch_size)\n",
    "model.reset_states()\n",
    "testPredict = model.predict(testX,batch_size=batch_size)"
   ]
  },
  {
   "cell_type": "code",
   "execution_count": 110,
   "metadata": {},
   "outputs": [],
   "source": [
    "trainPredict = scaler.inverse_transform(trainPredict)\n",
    "trainY = scaler.inverse_transform([trainY])\n",
    "testPredict = scaler.inverse_transform(testPredict)\n",
    "testY = scaler.inverse_transform([testY])"
   ]
  },
  {
   "cell_type": "code",
   "execution_count": 111,
   "metadata": {},
   "outputs": [
    {
     "name": "stdout",
     "output_type": "stream",
     "text": [
      "Train Score: 20.57 rmse\n"
     ]
    }
   ],
   "source": [
    "trainScore=math.sqrt(mean_squared_error(trainY[0],trainPredict[:,0]))\n",
    "print(\"Train Score: %.2F rmse\" % (trainScore))"
   ]
  },
  {
   "cell_type": "code",
   "execution_count": 112,
   "metadata": {},
   "outputs": [
    {
     "name": "stdout",
     "output_type": "stream",
     "text": [
      "Test Score: 52.74 RMSE\n"
     ]
    }
   ],
   "source": [
    "testScore = math.sqrt(mean_squared_error(testY[0],testPredict[:,0]))\n",
    "print(\"Test Score: %.2f RMSE\"%(testScore))"
   ]
  },
  {
   "cell_type": "code",
   "execution_count": 114,
   "metadata": {},
   "outputs": [],
   "source": [
    "trainPredictPlot = numpy.empty_like(dataset)\n",
    "trainPredictPlot[:,:] = numpy.nan\n",
    "trainPredictPlot[look_back:len(trainPredict)+look_back,:] = trainPredict"
   ]
  },
  {
   "cell_type": "code",
   "execution_count": 115,
   "metadata": {},
   "outputs": [],
   "source": [
    "testPredictPlot = numpy.empty_like(dataset)\n",
    "testPredictPlot[:,:] = numpy.nan\n",
    "testPredictPlot[len(trainPredict)+(look_back*2)+1:len(dataset)-1,:] = testPredict"
   ]
  },
  {
   "cell_type": "code",
   "execution_count": 116,
   "metadata": {},
   "outputs": [
    {
     "data": {
      "image/png": "[encoded data removed]",
      "text/plain": [
       "<Figure size 432x288 with 1 Axes>"
      ]
     },
     "metadata": {
      "needs_background": "light"
     },
     "output_type": "display_data"
    }
   ],
   "source": [
    "plt.plot(scaler.inverse_transform(dataset))\n",
    "plt.plot(trainPredictPlot)\n",
    "plt.plot(testPredictPlot)\n",
    "plt.show()"
   ]
  },
  {
   "cell_type": "code",
   "execution_count": 122,
   "metadata": {},
   "outputs": [],
   "source": [
    "# Stacked LSTM"
   ]
  },
  {
   "cell_type": "code",
   "execution_count": 125,
   "metadata": {},
   "outputs": [],
   "source": [
    "look_back=3\n",
    "trainX,trainY = create_dataset(train, look_back)\n",
    "testX, testY = create_dataset(test, look_back)"
   ]
  },
  {
   "cell_type": "code",
   "execution_count": 126,
   "metadata": {},
   "outputs": [],
   "source": [
    "trainX = numpy.reshape(trainX,(trainX.shape[0], trainX.shape[1],1))\n",
    "testX = numpy.reshape(testX,(testX.shape[0],testX.shape[1],1))"
   ]
  },
  {
   "cell_type": "code",
   "execution_count": 127,
   "metadata": {},
   "outputs": [
    {
     "name": "stdout",
     "output_type": "stream",
     "text": [
      "Epoch 1/1\n",
      " - 1s - loss: 0.0048\n",
      "Epoch 1/1\n",
      " - 0s - loss: 0.0084\n",
      "Epoch 1/1\n",
      " - 0s - loss: 0.0063\n",
      "Epoch 1/1\n",
      " - 0s - loss: 0.0057\n",
      "Epoch 1/1\n",
      " - 0s - loss: 0.0054\n",
      "Epoch 1/1\n",
      " - 0s - loss: 0.0053\n",
      "Epoch 1/1\n",
      " - 0s - loss: 0.0052\n",
      "Epoch 1/1\n",
      " - 0s - loss: 0.0051\n",
      "Epoch 1/1\n",
      " - 0s - loss: 0.0051\n",
      "Epoch 1/1\n",
      " - 0s - loss: 0.0051\n",
      "Epoch 1/1\n",
      " - 0s - loss: 0.0050\n",
      "Epoch 1/1\n",
      " - 0s - loss: 0.0050\n",
      "Epoch 1/1\n",
      " - 0s - loss: 0.0050\n",
      "Epoch 1/1\n",
      " - 0s - loss: 0.0050\n",
      "Epoch 1/1\n",
      " - 0s - loss: 0.0049\n",
      "Epoch 1/1\n",
      " - 0s - loss: 0.0049\n",
      "Epoch 1/1\n",
      " - 0s - loss: 0.0049\n",
      "Epoch 1/1\n",
      " - 0s - loss: 0.0048\n",
      "Epoch 1/1\n",
      " - 0s - loss: 0.0048\n",
      "Epoch 1/1\n",
      " - 0s - loss: 0.0047\n",
      "Epoch 1/1\n",
      " - 0s - loss: 0.0046\n",
      "Epoch 1/1\n",
      " - 0s - loss: 0.0046\n",
      "Epoch 1/1\n",
      " - 0s - loss: 0.0045\n",
      "Epoch 1/1\n",
      " - 0s - loss: 0.0044\n",
      "Epoch 1/1\n",
      " - 0s - loss: 0.0043\n",
      "Epoch 1/1\n",
      " - 0s - loss: 0.0042\n",
      "Epoch 1/1\n",
      " - 0s - loss: 0.0041\n",
      "Epoch 1/1\n",
      " - 0s - loss: 0.0040\n",
      "Epoch 1/1\n",
      " - 0s - loss: 0.0039\n",
      "Epoch 1/1\n",
      " - 0s - loss: 0.0038\n",
      "Epoch 1/1\n",
      " - 0s - loss: 0.0037\n",
      "Epoch 1/1\n",
      " - 0s - loss: 0.0036\n",
      "Epoch 1/1\n",
      " - 0s - loss: 0.0035\n",
      "Epoch 1/1\n",
      " - 0s - loss: 0.0034\n",
      "Epoch 1/1\n",
      " - 0s - loss: 0.0033\n",
      "Epoch 1/1\n",
      " - 0s - loss: 0.0033\n",
      "Epoch 1/1\n",
      " - 0s - loss: 0.0032\n",
      "Epoch 1/1\n",
      " - 0s - loss: 0.0031\n",
      "Epoch 1/1\n",
      " - 0s - loss: 0.0031\n",
      "Epoch 1/1\n",
      " - 0s - loss: 0.0031\n",
      "Epoch 1/1\n",
      " - 0s - loss: 0.0030\n",
      "Epoch 1/1\n",
      " - 0s - loss: 0.0030\n",
      "Epoch 1/1\n",
      " - 0s - loss: 0.0030\n",
      "Epoch 1/1\n",
      " - 0s - loss: 0.0030\n",
      "Epoch 1/1\n",
      " - 0s - loss: 0.0030\n",
      "Epoch 1/1\n",
      " - 0s - loss: 0.0030\n",
      "Epoch 1/1\n",
      " - 0s - loss: 0.0030\n",
      "Epoch 1/1\n",
      " - 0s - loss: 0.0030\n",
      "Epoch 1/1\n",
      " - 0s - loss: 0.0030\n",
      "Epoch 1/1\n",
      " - 0s - loss: 0.0030\n",
      "Epoch 1/1\n",
      " - 0s - loss: 0.0030\n",
      "Epoch 1/1\n",
      " - 0s - loss: 0.0030\n",
      "Epoch 1/1\n",
      " - 0s - loss: 0.0029\n",
      "Epoch 1/1\n",
      " - 0s - loss: 0.0029\n",
      "Epoch 1/1\n",
      " - 0s - loss: 0.0029\n",
      "Epoch 1/1\n",
      " - 0s - loss: 0.0029\n",
      "Epoch 1/1\n",
      " - 0s - loss: 0.0028\n",
      "Epoch 1/1\n",
      " - 0s - loss: 0.0028\n",
      "Epoch 1/1\n",
      " - 0s - loss: 0.0028\n",
      "Epoch 1/1\n",
      " - 0s - loss: 0.0027\n",
      "Epoch 1/1\n",
      " - 0s - loss: 0.0027\n",
      "Epoch 1/1\n",
      " - 0s - loss: 0.0027\n",
      "Epoch 1/1\n",
      " - 0s - loss: 0.0027\n",
      "Epoch 1/1\n",
      " - 0s - loss: 0.0026\n",
      "Epoch 1/1\n",
      " - 0s - loss: 0.0026\n",
      "Epoch 1/1\n",
      " - 0s - loss: 0.0026\n",
      "Epoch 1/1\n",
      " - 0s - loss: 0.0026\n",
      "Epoch 1/1\n",
      " - 0s - loss: 0.0026\n",
      "Epoch 1/1\n",
      " - 0s - loss: 0.0025\n",
      "Epoch 1/1\n",
      " - 0s - loss: 0.0025\n",
      "Epoch 1/1\n",
      " - 0s - loss: 0.0025\n",
      "Epoch 1/1\n",
      " - 0s - loss: 0.0025\n",
      "Epoch 1/1\n",
      " - 0s - loss: 0.0025\n",
      "Epoch 1/1\n",
      " - 0s - loss: 0.0024\n",
      "Epoch 1/1\n",
      " - 0s - loss: 0.0024\n",
      "Epoch 1/1\n",
      " - 0s - loss: 0.0024\n",
      "Epoch 1/1\n",
      " - 0s - loss: 0.0024\n",
      "Epoch 1/1\n",
      " - 0s - loss: 0.0024\n",
      "Epoch 1/1\n",
      " - 0s - loss: 0.0023\n",
      "Epoch 1/1\n",
      " - 0s - loss: 0.0023\n",
      "Epoch 1/1\n",
      " - 0s - loss: 0.0023\n",
      "Epoch 1/1\n",
      " - 0s - loss: 0.0023\n",
      "Epoch 1/1\n",
      " - 0s - loss: 0.0023\n",
      "Epoch 1/1\n",
      " - 0s - loss: 0.0023\n",
      "Epoch 1/1\n",
      " - 0s - loss: 0.0022\n",
      "Epoch 1/1\n",
      " - 0s - loss: 0.0022\n",
      "Epoch 1/1\n",
      " - 0s - loss: 0.0022\n",
      "Epoch 1/1\n",
      " - 0s - loss: 0.0022\n",
      "Epoch 1/1\n",
      " - 0s - loss: 0.0022\n",
      "Epoch 1/1\n",
      " - 0s - loss: 0.0022\n",
      "Epoch 1/1\n",
      " - 0s - loss: 0.0021\n",
      "Epoch 1/1\n",
      " - 0s - loss: 0.0021\n",
      "Epoch 1/1\n",
      " - 0s - loss: 0.0021\n",
      "Epoch 1/1\n",
      " - 0s - loss: 0.0021\n",
      "Epoch 1/1\n",
      " - 0s - loss: 0.0021\n",
      "Epoch 1/1\n",
      " - 0s - loss: 0.0021\n",
      "Epoch 1/1\n",
      " - 0s - loss: 0.0020\n",
      "Epoch 1/1\n",
      " - 0s - loss: 0.0020\n",
      "Epoch 1/1\n",
      " - 0s - loss: 0.0020\n",
      "Epoch 1/1\n",
      " - 0s - loss: 0.0020\n"
     ]
    }
   ],
   "source": [
    "model = Sequential()\n",
    "model.add(LSTM(4,batch_input_shape=(batch_size,look_back,1),stateful=True,return_sequences=True))\n",
    "model.add(LSTM(4,batch_input_shape=(batch_size,look_back,1),stateful=True))\n",
    "model.add(Dense(1))\n",
    "model.compile(loss=\"mean_squared_error\",optimizer=\"adam\")\n",
    "for i in range(100):\n",
    "    model.fit(trainX,trainY,epochs=1,batch_size=batch_size,verbose=2,shuffle = False)\n",
    "    model.reset_states()"
   ]
  },
  {
   "cell_type": "code",
   "execution_count": 128,
   "metadata": {},
   "outputs": [],
   "source": [
    "trainPredict=model.predict(trainX,batch_size=batch_size)\n",
    "model.reset_states()\n",
    "testPredict = model.predict(testX,batch_size=batch_size)"
   ]
  },
  {
   "cell_type": "code",
   "execution_count": 129,
   "metadata": {},
   "outputs": [],
   "source": [
    "trainPredict=scaler.inverse_transform(trainPredict)\n",
    "trainY = scaler.inverse_transform([trainY])\n",
    "testPredict = scaler.inverse_transform(testPredict)"
   ]
  },
  {
   "cell_type": "code",
   "execution_count": 131,
   "metadata": {},
   "outputs": [],
   "source": [
    "testY = scaler.inverse_transform([testY])"
   ]
  },
  {
   "cell_type": "code",
   "execution_count": 133,
   "metadata": {},
   "outputs": [
    {
     "name": "stdout",
     "output_type": "stream",
     "text": [
      "Train Score 22.54 RMSE\n"
     ]
    }
   ],
   "source": [
    "trainScore = math.sqrt(mean_squared_error(trainY[0],trainPredict[:,0]))\n",
    "print(\"Train Score %.2f RMSE\" %(trainScore))"
   ]
  },
  {
   "cell_type": "code",
   "execution_count": 134,
   "metadata": {},
   "outputs": [
    {
     "name": "stdout",
     "output_type": "stream",
     "text": [
      "Test Score 93.99 RMSE\n"
     ]
    }
   ],
   "source": [
    "testScore = math.sqrt(mean_squared_error(testY[0],testPredict[:,0]))\n",
    "print(\"Test Score %.2f RMSE\" %(testScore))"
   ]
  },
  {
   "cell_type": "code",
   "execution_count": 135,
   "metadata": {},
   "outputs": [],
   "source": [
    "trainPredictPlot = numpy.empty_like(dataset)\n",
    "trainPredictPlot[:,:] = numpy.nan\n",
    "trainPredictPlot[look_back:len(trainPredict)+look_back,:] = trainPredict"
   ]
  },
  {
   "cell_type": "code",
   "execution_count": 138,
   "metadata": {},
   "outputs": [],
   "source": [
    "testPredictPlot = numpy.empty_like(dataset)\n",
    "testPredictPlot[:,:] = numpy.nan\n",
    "testPredictPlot[len(trainPredict)+(look_back*2)+1:len(dataset)-1,:] = testPredict"
   ]
  },
  {
   "cell_type": "code",
   "execution_count": 139,
   "metadata": {},
   "outputs": [
    {
     "data": {
      "image/png": "[encoded data removed]",
      "text/plain": [
       "<Figure size 432x288 with 1 Axes>"
      ]
     },
     "metadata": {
      "needs_background": "light"
     },
     "output_type": "display_data"
    }
   ],
   "source": [
    "plt.plot(scaler.inverse_transform(dataset))\n",
    "plt.plot(trainPredictPlot)\n",
    "plt.plot(testPredictPlot)\n",
    "plt.show()"
   ]
  },
  {
   "cell_type": "code",
   "execution_count": null,
   "metadata": {},
   "outputs": [],
   "source": []
  }
 ],
 "metadata": {
  "kernelspec": {
   "display_name": "Python 3",
   "language": "python",
   "name": "python3"
  },
  "language_info": {
   "codemirror_mode": {
    "name": "ipython",
    "version": 3
   },
   "file_extension": ".py",
   "mimetype": "text/x-python",
   "name": "python",
   "nbconvert_exporter": "python",
   "pygments_lexer": "ipython3",
   "version": "3.6.8"
  }
 },
 "nbformat": 4,
 "nbformat_minor": 2
}
